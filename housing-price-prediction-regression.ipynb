{
 "cells": [
  {
   "cell_type": "markdown",
   "id": "6425d700",
   "metadata": {
    "papermill": {
     "duration": 0.087434,
     "end_time": "2022-01-19T22:50:26.841832",
     "exception": false,
     "start_time": "2022-01-19T22:50:26.754398",
     "status": "completed"
    },
    "tags": []
   },
   "source": [
    "# Regression\n",
    "\n",
    "### Housing Price Prediction\n",
    "\n",
    "The goal of this competition entry is apply concepts I've learnt so far, and gain more practise in feature engineering and stacked models.\n",
    "\n",
    "As the missing features of this dataset are rather sparse, engineering them will mainly mean:\n",
    "\n",
    "* Imputing missing values\n",
    "* Dealing with outliers\n",
    "* Transforming variables\n",
    "* Label Encoding\n",
    "* Stabilizing variance/skewness\n",
    "* Aquiring dummy variables\n",
    "\n",
    "Model will be a sklearn base + XGBoost + LightGBM stack predicting the **SalePrice**."
   ]
  },
  {
   "cell_type": "markdown",
   "id": "5f05fac2",
   "metadata": {
    "papermill": {
     "duration": 0.087979,
     "end_time": "2022-01-19T22:50:27.015019",
     "exception": false,
     "start_time": "2022-01-19T22:50:26.927040",
     "status": "completed"
    },
    "tags": []
   },
   "source": [
    "### Credits & Inspiration\n",
    "* [Stacked Regression by Serigne](https://www.kaggle.com/serigne/stacked-regressions-top-4-on-leaderboard/notebook) - Absolutely stunning notebook that I've used as the template for my own explorations here. Taught me a lot about feature engineering and stacked modelling.\n",
    "* [Stacking Ensemble Machine Learning With Python by Jason Brownlee](https://machinelearningmastery.com/stacking-ensemble-machine-learning-with-python/) - Great tutorial on stacking models\n",
    "* [Comprehensive data exploration with Python by Pedro Marcelino](https://www.kaggle.com/pmarcelino/comprehensive-data-exploration-with-python) - In-depth EDA on this dataset\n",
    "* [A study on Regression applied to the Ames dataset by juliencs](https://www.kaggle.com/juliencs/a-study-on-regression-applied-to-the-ames-dataset) - Great notebook using linear regression on this dataset\n",
    "* [Missing Values, Ordinal data and stories\n",
    " by mitra mirshafiee](https://www.kaggle.com/mitramir5/missing-values-ordinal-data-and-stories) - Illustrative and educational notebook on handling missing values"
   ]
  },
  {
   "cell_type": "code",
   "execution_count": 1,
   "id": "b901ef99",
   "metadata": {
    "execution": {
     "iopub.execute_input": "2022-01-19T22:50:27.188610Z",
     "iopub.status.busy": "2022-01-19T22:50:27.187364Z",
     "iopub.status.idle": "2022-01-19T22:50:29.835927Z",
     "shell.execute_reply": "2022-01-19T22:50:29.835018Z",
     "shell.execute_reply.started": "2022-01-19T22:39:42.879457Z"
    },
    "papermill": {
     "duration": 2.736242,
     "end_time": "2022-01-19T22:50:29.836130",
     "exception": false,
     "start_time": "2022-01-19T22:50:27.099888",
     "status": "completed"
    },
    "tags": []
   },
   "outputs": [
    {
     "data": {
      "text/html": [
       "<style type='text/css'>\n",
       ".datatable table.frame { margin-bottom: 0; }\n",
       ".datatable table.frame thead { border-bottom: none; }\n",
       ".datatable table.frame tr.coltypes td {  color: #FFFFFF;  line-height: 6px;  padding: 0 0.5em;}\n",
       ".datatable .bool    { background: #DDDD99; }\n",
       ".datatable .object  { background: #565656; }\n",
       ".datatable .int     { background: #5D9E5D; }\n",
       ".datatable .float   { background: #4040CC; }\n",
       ".datatable .str     { background: #CC4040; }\n",
       ".datatable .time    { background: #40CC40; }\n",
       ".datatable .row_index {  background: var(--jp-border-color3);  border-right: 1px solid var(--jp-border-color0);  color: var(--jp-ui-font-color3);  font-size: 9px;}\n",
       ".datatable .frame tbody td { text-align: left; }\n",
       ".datatable .frame tr.coltypes .row_index {  background: var(--jp-border-color0);}\n",
       ".datatable th:nth-child(2) { padding-left: 12px; }\n",
       ".datatable .hellipsis {  color: var(--jp-cell-editor-border-color);}\n",
       ".datatable .vellipsis {  background: var(--jp-layout-color0);  color: var(--jp-cell-editor-border-color);}\n",
       ".datatable .na {  color: var(--jp-cell-editor-border-color);  font-size: 80%;}\n",
       ".datatable .sp {  opacity: 0.25;}\n",
       ".datatable .footer { font-size: 9px; }\n",
       ".datatable .frame_dimensions {  background: var(--jp-border-color3);  border-top: 1px solid var(--jp-border-color0);  color: var(--jp-ui-font-color3);  display: inline-block;  opacity: 0.6;  padding: 1px 10px 1px 5px;}\n",
       "</style>\n"
      ],
      "text/plain": [
       "<IPython.core.display.HTML object>"
      ]
     },
     "metadata": {},
     "output_type": "display_data"
    }
   ],
   "source": [
    "#Imports\n",
    "import numpy as np\n",
    "import pandas as pd\n",
    "\n",
    "#Visualizations\n",
    "import matplotlib.pyplot as plt\n",
    "import seaborn as sns\n",
    "%matplotlib inline\n",
    "plt.rcParams['figure.figsize'] = [12,6]\n",
    "sns.set(style=\"darkgrid\")\n",
    "\n",
    "#Statistics\n",
    "from scipy import stats\n",
    "from scipy.stats import norm, skew\n",
    "from scipy.special import boxcox1p\n",
    "\n",
    "#Float Output to 2 decimals\n",
    "pd.set_option('display.float_format', lambda x: '{:.2f}'.format(x))\n",
    "\n",
    "#Models\n",
    "from sklearn.preprocessing import LabelEncoder, OrdinalEncoder, RobustScaler\n",
    "from sklearn.linear_model import ElasticNet, Lasso,  BayesianRidge, LassoLarsIC\n",
    "from sklearn.ensemble import RandomForestRegressor,  GradientBoostingRegressor\n",
    "from sklearn.kernel_ridge import KernelRidge\n",
    "from sklearn.pipeline import make_pipeline\n",
    "from sklearn.base import BaseEstimator, TransformerMixin, RegressorMixin, clone\n",
    "from sklearn.model_selection import KFold, cross_val_score, train_test_split\n",
    "from sklearn.metrics import mean_squared_error\n",
    "import xgboost as xgb\n",
    "import lightgbm as lgb\n",
    "\n",
    "#Quality of life\n",
    "import warnings\n",
    "warnings.filterwarnings('ignore')"
   ]
  },
  {
   "cell_type": "code",
   "execution_count": 2,
   "id": "6d0cb8df",
   "metadata": {
    "execution": {
     "iopub.execute_input": "2022-01-19T22:50:30.017979Z",
     "iopub.status.busy": "2022-01-19T22:50:30.017213Z",
     "iopub.status.idle": "2022-01-19T22:50:30.103266Z",
     "shell.execute_reply": "2022-01-19T22:50:30.102605Z",
     "shell.execute_reply.started": "2022-01-19T22:39:42.894053Z"
    },
    "papermill": {
     "duration": 0.177139,
     "end_time": "2022-01-19T22:50:30.103423",
     "exception": false,
     "start_time": "2022-01-19T22:50:29.926284",
     "status": "completed"
    },
    "tags": []
   },
   "outputs": [],
   "source": [
    "#Importing datasets\n",
    "train = pd.read_csv('../input/house-prices-advanced-regression-techniques/train.csv')\n",
    "test = pd.read_csv('../input/house-prices-advanced-regression-techniques/test.csv')"
   ]
  },
  {
   "cell_type": "code",
   "execution_count": 3,
   "id": "b9687fc5",
   "metadata": {
    "execution": {
     "iopub.execute_input": "2022-01-19T22:50:30.293118Z",
     "iopub.status.busy": "2022-01-19T22:50:30.292374Z",
     "iopub.status.idle": "2022-01-19T22:50:30.318939Z",
     "shell.execute_reply": "2022-01-19T22:50:30.318200Z",
     "shell.execute_reply.started": "2022-01-19T22:39:42.947197Z"
    },
    "papermill": {
     "duration": 0.123881,
     "end_time": "2022-01-19T22:50:30.319092",
     "exception": false,
     "start_time": "2022-01-19T22:50:30.195211",
     "status": "completed"
    },
    "tags": []
   },
   "outputs": [
    {
     "data": {
      "text/html": [
       "<div>\n",
       "<style scoped>\n",
       "    .dataframe tbody tr th:only-of-type {\n",
       "        vertical-align: middle;\n",
       "    }\n",
       "\n",
       "    .dataframe tbody tr th {\n",
       "        vertical-align: top;\n",
       "    }\n",
       "\n",
       "    .dataframe thead th {\n",
       "        text-align: right;\n",
       "    }\n",
       "</style>\n",
       "<table border=\"1\" class=\"dataframe\">\n",
       "  <thead>\n",
       "    <tr style=\"text-align: right;\">\n",
       "      <th></th>\n",
       "      <th>Id</th>\n",
       "      <th>MSSubClass</th>\n",
       "      <th>MSZoning</th>\n",
       "      <th>LotFrontage</th>\n",
       "      <th>LotArea</th>\n",
       "      <th>Street</th>\n",
       "      <th>Alley</th>\n",
       "      <th>LotShape</th>\n",
       "      <th>LandContour</th>\n",
       "      <th>Utilities</th>\n",
       "      <th>...</th>\n",
       "      <th>PoolArea</th>\n",
       "      <th>PoolQC</th>\n",
       "      <th>Fence</th>\n",
       "      <th>MiscFeature</th>\n",
       "      <th>MiscVal</th>\n",
       "      <th>MoSold</th>\n",
       "      <th>YrSold</th>\n",
       "      <th>SaleType</th>\n",
       "      <th>SaleCondition</th>\n",
       "      <th>SalePrice</th>\n",
       "    </tr>\n",
       "  </thead>\n",
       "  <tbody>\n",
       "    <tr>\n",
       "      <th>0</th>\n",
       "      <td>1</td>\n",
       "      <td>60</td>\n",
       "      <td>RL</td>\n",
       "      <td>65.00</td>\n",
       "      <td>8450</td>\n",
       "      <td>Pave</td>\n",
       "      <td>NaN</td>\n",
       "      <td>Reg</td>\n",
       "      <td>Lvl</td>\n",
       "      <td>AllPub</td>\n",
       "      <td>...</td>\n",
       "      <td>0</td>\n",
       "      <td>NaN</td>\n",
       "      <td>NaN</td>\n",
       "      <td>NaN</td>\n",
       "      <td>0</td>\n",
       "      <td>2</td>\n",
       "      <td>2008</td>\n",
       "      <td>WD</td>\n",
       "      <td>Normal</td>\n",
       "      <td>208500</td>\n",
       "    </tr>\n",
       "    <tr>\n",
       "      <th>1</th>\n",
       "      <td>2</td>\n",
       "      <td>20</td>\n",
       "      <td>RL</td>\n",
       "      <td>80.00</td>\n",
       "      <td>9600</td>\n",
       "      <td>Pave</td>\n",
       "      <td>NaN</td>\n",
       "      <td>Reg</td>\n",
       "      <td>Lvl</td>\n",
       "      <td>AllPub</td>\n",
       "      <td>...</td>\n",
       "      <td>0</td>\n",
       "      <td>NaN</td>\n",
       "      <td>NaN</td>\n",
       "      <td>NaN</td>\n",
       "      <td>0</td>\n",
       "      <td>5</td>\n",
       "      <td>2007</td>\n",
       "      <td>WD</td>\n",
       "      <td>Normal</td>\n",
       "      <td>181500</td>\n",
       "    </tr>\n",
       "    <tr>\n",
       "      <th>2</th>\n",
       "      <td>3</td>\n",
       "      <td>60</td>\n",
       "      <td>RL</td>\n",
       "      <td>68.00</td>\n",
       "      <td>11250</td>\n",
       "      <td>Pave</td>\n",
       "      <td>NaN</td>\n",
       "      <td>IR1</td>\n",
       "      <td>Lvl</td>\n",
       "      <td>AllPub</td>\n",
       "      <td>...</td>\n",
       "      <td>0</td>\n",
       "      <td>NaN</td>\n",
       "      <td>NaN</td>\n",
       "      <td>NaN</td>\n",
       "      <td>0</td>\n",
       "      <td>9</td>\n",
       "      <td>2008</td>\n",
       "      <td>WD</td>\n",
       "      <td>Normal</td>\n",
       "      <td>223500</td>\n",
       "    </tr>\n",
       "    <tr>\n",
       "      <th>3</th>\n",
       "      <td>4</td>\n",
       "      <td>70</td>\n",
       "      <td>RL</td>\n",
       "      <td>60.00</td>\n",
       "      <td>9550</td>\n",
       "      <td>Pave</td>\n",
       "      <td>NaN</td>\n",
       "      <td>IR1</td>\n",
       "      <td>Lvl</td>\n",
       "      <td>AllPub</td>\n",
       "      <td>...</td>\n",
       "      <td>0</td>\n",
       "      <td>NaN</td>\n",
       "      <td>NaN</td>\n",
       "      <td>NaN</td>\n",
       "      <td>0</td>\n",
       "      <td>2</td>\n",
       "      <td>2006</td>\n",
       "      <td>WD</td>\n",
       "      <td>Abnorml</td>\n",
       "      <td>140000</td>\n",
       "    </tr>\n",
       "    <tr>\n",
       "      <th>4</th>\n",
       "      <td>5</td>\n",
       "      <td>60</td>\n",
       "      <td>RL</td>\n",
       "      <td>84.00</td>\n",
       "      <td>14260</td>\n",
       "      <td>Pave</td>\n",
       "      <td>NaN</td>\n",
       "      <td>IR1</td>\n",
       "      <td>Lvl</td>\n",
       "      <td>AllPub</td>\n",
       "      <td>...</td>\n",
       "      <td>0</td>\n",
       "      <td>NaN</td>\n",
       "      <td>NaN</td>\n",
       "      <td>NaN</td>\n",
       "      <td>0</td>\n",
       "      <td>12</td>\n",
       "      <td>2008</td>\n",
       "      <td>WD</td>\n",
       "      <td>Normal</td>\n",
       "      <td>250000</td>\n",
       "    </tr>\n",
       "  </tbody>\n",
       "</table>\n",
       "<p>5 rows × 81 columns</p>\n",
       "</div>"
      ],
      "text/plain": [
       "   Id  MSSubClass MSZoning  LotFrontage  LotArea Street Alley LotShape  \\\n",
       "0   1          60       RL        65.00     8450   Pave   NaN      Reg   \n",
       "1   2          20       RL        80.00     9600   Pave   NaN      Reg   \n",
       "2   3          60       RL        68.00    11250   Pave   NaN      IR1   \n",
       "3   4          70       RL        60.00     9550   Pave   NaN      IR1   \n",
       "4   5          60       RL        84.00    14260   Pave   NaN      IR1   \n",
       "\n",
       "  LandContour Utilities  ... PoolArea PoolQC Fence MiscFeature MiscVal MoSold  \\\n",
       "0         Lvl    AllPub  ...        0    NaN   NaN         NaN       0      2   \n",
       "1         Lvl    AllPub  ...        0    NaN   NaN         NaN       0      5   \n",
       "2         Lvl    AllPub  ...        0    NaN   NaN         NaN       0      9   \n",
       "3         Lvl    AllPub  ...        0    NaN   NaN         NaN       0      2   \n",
       "4         Lvl    AllPub  ...        0    NaN   NaN         NaN       0     12   \n",
       "\n",
       "  YrSold  SaleType  SaleCondition  SalePrice  \n",
       "0   2008        WD         Normal     208500  \n",
       "1   2007        WD         Normal     181500  \n",
       "2   2008        WD         Normal     223500  \n",
       "3   2006        WD        Abnorml     140000  \n",
       "4   2008        WD         Normal     250000  \n",
       "\n",
       "[5 rows x 81 columns]"
      ]
     },
     "execution_count": 3,
     "metadata": {},
     "output_type": "execute_result"
    }
   ],
   "source": [
    "#First look training set\n",
    "train.head()"
   ]
  },
  {
   "cell_type": "code",
   "execution_count": 4,
   "id": "bd39c9f1",
   "metadata": {
    "execution": {
     "iopub.execute_input": "2022-01-19T22:50:30.516451Z",
     "iopub.status.busy": "2022-01-19T22:50:30.509273Z",
     "iopub.status.idle": "2022-01-19T22:50:30.520951Z",
     "shell.execute_reply": "2022-01-19T22:50:30.520398Z",
     "shell.execute_reply.started": "2022-01-19T22:39:42.977032Z"
    },
    "papermill": {
     "duration": 0.117698,
     "end_time": "2022-01-19T22:50:30.521175",
     "exception": false,
     "start_time": "2022-01-19T22:50:30.403477",
     "status": "completed"
    },
    "tags": []
   },
   "outputs": [
    {
     "data": {
      "text/html": [
       "<div>\n",
       "<style scoped>\n",
       "    .dataframe tbody tr th:only-of-type {\n",
       "        vertical-align: middle;\n",
       "    }\n",
       "\n",
       "    .dataframe tbody tr th {\n",
       "        vertical-align: top;\n",
       "    }\n",
       "\n",
       "    .dataframe thead th {\n",
       "        text-align: right;\n",
       "    }\n",
       "</style>\n",
       "<table border=\"1\" class=\"dataframe\">\n",
       "  <thead>\n",
       "    <tr style=\"text-align: right;\">\n",
       "      <th></th>\n",
       "      <th>Id</th>\n",
       "      <th>MSSubClass</th>\n",
       "      <th>MSZoning</th>\n",
       "      <th>LotFrontage</th>\n",
       "      <th>LotArea</th>\n",
       "      <th>Street</th>\n",
       "      <th>Alley</th>\n",
       "      <th>LotShape</th>\n",
       "      <th>LandContour</th>\n",
       "      <th>Utilities</th>\n",
       "      <th>...</th>\n",
       "      <th>ScreenPorch</th>\n",
       "      <th>PoolArea</th>\n",
       "      <th>PoolQC</th>\n",
       "      <th>Fence</th>\n",
       "      <th>MiscFeature</th>\n",
       "      <th>MiscVal</th>\n",
       "      <th>MoSold</th>\n",
       "      <th>YrSold</th>\n",
       "      <th>SaleType</th>\n",
       "      <th>SaleCondition</th>\n",
       "    </tr>\n",
       "  </thead>\n",
       "  <tbody>\n",
       "    <tr>\n",
       "      <th>0</th>\n",
       "      <td>1461</td>\n",
       "      <td>20</td>\n",
       "      <td>RH</td>\n",
       "      <td>80.00</td>\n",
       "      <td>11622</td>\n",
       "      <td>Pave</td>\n",
       "      <td>NaN</td>\n",
       "      <td>Reg</td>\n",
       "      <td>Lvl</td>\n",
       "      <td>AllPub</td>\n",
       "      <td>...</td>\n",
       "      <td>120</td>\n",
       "      <td>0</td>\n",
       "      <td>NaN</td>\n",
       "      <td>MnPrv</td>\n",
       "      <td>NaN</td>\n",
       "      <td>0</td>\n",
       "      <td>6</td>\n",
       "      <td>2010</td>\n",
       "      <td>WD</td>\n",
       "      <td>Normal</td>\n",
       "    </tr>\n",
       "    <tr>\n",
       "      <th>1</th>\n",
       "      <td>1462</td>\n",
       "      <td>20</td>\n",
       "      <td>RL</td>\n",
       "      <td>81.00</td>\n",
       "      <td>14267</td>\n",
       "      <td>Pave</td>\n",
       "      <td>NaN</td>\n",
       "      <td>IR1</td>\n",
       "      <td>Lvl</td>\n",
       "      <td>AllPub</td>\n",
       "      <td>...</td>\n",
       "      <td>0</td>\n",
       "      <td>0</td>\n",
       "      <td>NaN</td>\n",
       "      <td>NaN</td>\n",
       "      <td>Gar2</td>\n",
       "      <td>12500</td>\n",
       "      <td>6</td>\n",
       "      <td>2010</td>\n",
       "      <td>WD</td>\n",
       "      <td>Normal</td>\n",
       "    </tr>\n",
       "    <tr>\n",
       "      <th>2</th>\n",
       "      <td>1463</td>\n",
       "      <td>60</td>\n",
       "      <td>RL</td>\n",
       "      <td>74.00</td>\n",
       "      <td>13830</td>\n",
       "      <td>Pave</td>\n",
       "      <td>NaN</td>\n",
       "      <td>IR1</td>\n",
       "      <td>Lvl</td>\n",
       "      <td>AllPub</td>\n",
       "      <td>...</td>\n",
       "      <td>0</td>\n",
       "      <td>0</td>\n",
       "      <td>NaN</td>\n",
       "      <td>MnPrv</td>\n",
       "      <td>NaN</td>\n",
       "      <td>0</td>\n",
       "      <td>3</td>\n",
       "      <td>2010</td>\n",
       "      <td>WD</td>\n",
       "      <td>Normal</td>\n",
       "    </tr>\n",
       "    <tr>\n",
       "      <th>3</th>\n",
       "      <td>1464</td>\n",
       "      <td>60</td>\n",
       "      <td>RL</td>\n",
       "      <td>78.00</td>\n",
       "      <td>9978</td>\n",
       "      <td>Pave</td>\n",
       "      <td>NaN</td>\n",
       "      <td>IR1</td>\n",
       "      <td>Lvl</td>\n",
       "      <td>AllPub</td>\n",
       "      <td>...</td>\n",
       "      <td>0</td>\n",
       "      <td>0</td>\n",
       "      <td>NaN</td>\n",
       "      <td>NaN</td>\n",
       "      <td>NaN</td>\n",
       "      <td>0</td>\n",
       "      <td>6</td>\n",
       "      <td>2010</td>\n",
       "      <td>WD</td>\n",
       "      <td>Normal</td>\n",
       "    </tr>\n",
       "    <tr>\n",
       "      <th>4</th>\n",
       "      <td>1465</td>\n",
       "      <td>120</td>\n",
       "      <td>RL</td>\n",
       "      <td>43.00</td>\n",
       "      <td>5005</td>\n",
       "      <td>Pave</td>\n",
       "      <td>NaN</td>\n",
       "      <td>IR1</td>\n",
       "      <td>HLS</td>\n",
       "      <td>AllPub</td>\n",
       "      <td>...</td>\n",
       "      <td>144</td>\n",
       "      <td>0</td>\n",
       "      <td>NaN</td>\n",
       "      <td>NaN</td>\n",
       "      <td>NaN</td>\n",
       "      <td>0</td>\n",
       "      <td>1</td>\n",
       "      <td>2010</td>\n",
       "      <td>WD</td>\n",
       "      <td>Normal</td>\n",
       "    </tr>\n",
       "  </tbody>\n",
       "</table>\n",
       "<p>5 rows × 80 columns</p>\n",
       "</div>"
      ],
      "text/plain": [
       "     Id  MSSubClass MSZoning  LotFrontage  LotArea Street Alley LotShape  \\\n",
       "0  1461          20       RH        80.00    11622   Pave   NaN      Reg   \n",
       "1  1462          20       RL        81.00    14267   Pave   NaN      IR1   \n",
       "2  1463          60       RL        74.00    13830   Pave   NaN      IR1   \n",
       "3  1464          60       RL        78.00     9978   Pave   NaN      IR1   \n",
       "4  1465         120       RL        43.00     5005   Pave   NaN      IR1   \n",
       "\n",
       "  LandContour Utilities  ... ScreenPorch PoolArea PoolQC  Fence MiscFeature  \\\n",
       "0         Lvl    AllPub  ...         120        0    NaN  MnPrv         NaN   \n",
       "1         Lvl    AllPub  ...           0        0    NaN    NaN        Gar2   \n",
       "2         Lvl    AllPub  ...           0        0    NaN  MnPrv         NaN   \n",
       "3         Lvl    AllPub  ...           0        0    NaN    NaN         NaN   \n",
       "4         HLS    AllPub  ...         144        0    NaN    NaN         NaN   \n",
       "\n",
       "  MiscVal MoSold  YrSold  SaleType  SaleCondition  \n",
       "0       0      6    2010        WD         Normal  \n",
       "1   12500      6    2010        WD         Normal  \n",
       "2       0      3    2010        WD         Normal  \n",
       "3       0      6    2010        WD         Normal  \n",
       "4       0      1    2010        WD         Normal  \n",
       "\n",
       "[5 rows x 80 columns]"
      ]
     },
     "execution_count": 4,
     "metadata": {},
     "output_type": "execute_result"
    }
   ],
   "source": [
    "#First look test set\n",
    "test.head()"
   ]
  },
  {
   "cell_type": "code",
   "execution_count": 5,
   "id": "bd573cc9",
   "metadata": {
    "execution": {
     "iopub.execute_input": "2022-01-19T22:50:30.710191Z",
     "iopub.status.busy": "2022-01-19T22:50:30.709463Z",
     "iopub.status.idle": "2022-01-19T22:50:30.711855Z",
     "shell.execute_reply": "2022-01-19T22:50:30.711198Z",
     "shell.execute_reply.started": "2022-01-19T22:39:43.000922Z"
    },
    "papermill": {
     "duration": 0.10484,
     "end_time": "2022-01-19T22:50:30.712110",
     "exception": false,
     "start_time": "2022-01-19T22:50:30.607270",
     "status": "completed"
    },
    "tags": []
   },
   "outputs": [],
   "source": [
    "#Saving then dropping Id column as it does not impact our prediction\n",
    "train_ID = train['Id']\n",
    "test_ID = test['Id']\n",
    "\n",
    "train.drop(\"Id\", axis = 1, inplace = True)\n",
    "test.drop(\"Id\", axis = 1, inplace = True)"
   ]
  },
  {
   "cell_type": "markdown",
   "id": "aaf94c35",
   "metadata": {
    "papermill": {
     "duration": 0.087695,
     "end_time": "2022-01-19T22:50:30.886086",
     "exception": false,
     "start_time": "2022-01-19T22:50:30.798391",
     "status": "completed"
    },
    "tags": []
   },
   "source": [
    "### Outliers"
   ]
  },
  {
   "cell_type": "code",
   "execution_count": 6,
   "id": "29f88386",
   "metadata": {
    "execution": {
     "iopub.execute_input": "2022-01-19T22:50:31.072995Z",
     "iopub.status.busy": "2022-01-19T22:50:31.072231Z",
     "iopub.status.idle": "2022-01-19T22:50:31.565091Z",
     "shell.execute_reply": "2022-01-19T22:50:31.565632Z",
     "shell.execute_reply.started": "2022-01-19T22:39:43.015843Z"
    },
    "papermill": {
     "duration": 0.590155,
     "end_time": "2022-01-19T22:50:31.565823",
     "exception": false,
     "start_time": "2022-01-19T22:50:30.975668",
     "status": "completed"
    },
    "tags": []
   },
   "outputs": [
    {
     "data": {
      "image/png": "[encoded data removed]",
      "text/plain": [
       "<Figure size 864x432 with 1 Axes>"
      ]
     },
     "metadata": {},
     "output_type": "display_data"
    }
   ],
   "source": [
    "#visualizing outliers, seen in bottom right.\n",
    "sns.scatterplot(data=train, x='GrLivArea', y='SalePrice');"
   ]
  },
  {
   "cell_type": "code",
   "execution_count": 7,
   "id": "1331eafc",
   "metadata": {
    "execution": {
     "iopub.execute_input": "2022-01-19T22:50:31.744693Z",
     "iopub.status.busy": "2022-01-19T22:50:31.743640Z",
     "iopub.status.idle": "2022-01-19T22:50:31.751101Z",
     "shell.execute_reply": "2022-01-19T22:50:31.751638Z",
     "shell.execute_reply.started": "2022-01-19T22:39:43.272485Z"
    },
    "papermill": {
     "duration": 0.099016,
     "end_time": "2022-01-19T22:50:31.751815",
     "exception": false,
     "start_time": "2022-01-19T22:50:31.652799",
     "status": "completed"
    },
    "tags": []
   },
   "outputs": [],
   "source": [
    "#the vast difference between 2 values of GrLivArea over 4000 and SalePrice under 200000 and the rest of datapoints makes me believe these outliers are safe to remove from the training set\n",
    "train = train.drop(train[(train['GrLivArea']>4000) & (train['SalePrice']<200000)].index)"
   ]
  },
  {
   "cell_type": "code",
   "execution_count": 8,
   "id": "6f8d2bac",
   "metadata": {
    "execution": {
     "iopub.execute_input": "2022-01-19T22:50:31.938317Z",
     "iopub.status.busy": "2022-01-19T22:50:31.937307Z",
     "iopub.status.idle": "2022-01-19T22:50:32.244196Z",
     "shell.execute_reply": "2022-01-19T22:50:32.244819Z",
     "shell.execute_reply.started": "2022-01-19T22:39:43.282620Z"
    },
    "papermill": {
     "duration": 0.403449,
     "end_time": "2022-01-19T22:50:32.245190",
     "exception": false,
     "start_time": "2022-01-19T22:50:31.841741",
     "status": "completed"
    },
    "tags": []
   },
   "outputs": [
    {
     "data": {
      "image/png": "[encoded data removed]",
      "text/plain": [
       "<Figure size 864x432 with 1 Axes>"
      ]
     },
     "metadata": {},
     "output_type": "display_data"
    }
   ],
   "source": [
    "#visualizing outliers, seen in bottom right.\n",
    "sns.scatterplot(data=train, x='GrLivArea', y='SalePrice');"
   ]
  },
  {
   "cell_type": "markdown",
   "id": "98152c77",
   "metadata": {
    "papermill": {
     "duration": 0.091019,
     "end_time": "2022-01-19T22:50:32.427025",
     "exception": false,
     "start_time": "2022-01-19T22:50:32.336006",
     "status": "completed"
    },
    "tags": []
   },
   "source": [
    "### Univariate Analysis SalePrice"
   ]
  },
  {
   "cell_type": "code",
   "execution_count": 9,
   "id": "48bd63ee",
   "metadata": {
    "execution": {
     "iopub.execute_input": "2022-01-19T22:50:32.627751Z",
     "iopub.status.busy": "2022-01-19T22:50:32.625877Z",
     "iopub.status.idle": "2022-01-19T22:50:33.537590Z",
     "shell.execute_reply": "2022-01-19T22:50:33.537002Z",
     "shell.execute_reply.started": "2022-01-19T22:39:43.550133Z"
    },
    "papermill": {
     "duration": 1.021093,
     "end_time": "2022-01-19T22:50:33.537762",
     "exception": false,
     "start_time": "2022-01-19T22:50:32.516669",
     "status": "completed"
    },
    "tags": []
   },
   "outputs": [
    {
     "data": {
      "image/png": "[encoded data removed]",
      "text/plain": [
       "<Figure size 864x432 with 1 Axes>"
      ]
     },
     "metadata": {},
     "output_type": "display_data"
    },
    {
     "data": {
      "image/png": "[encoded data removed]",
      "text/plain": [
       "<Figure size 864x432 with 1 Axes>"
      ]
     },
     "metadata": {},
     "output_type": "display_data"
    }
   ],
   "source": [
    "sns.distplot(train['SalePrice'] , fit=norm);\n",
    "\n",
    "#Fitted parameters used by function\n",
    "(mu, sigma) = norm.fit(train['SalePrice'])\n",
    "\n",
    "#Visualize Normal Distribution\n",
    "plt.legend(['Normal dist. ($\\mu=$ {:.0f} and $\\sigma=$ {:.0f} )'.format(mu, sigma)],\n",
    "            loc='best')\n",
    "plt.ylabel('Frequency')\n",
    "plt.title('SalePrice distribution')\n",
    "\n",
    "#Visualize Quantile-Quantile plot\n",
    "fig = plt.figure()\n",
    "res = stats.probplot(train['SalePrice'], plot=plt)\n",
    "plt.show()"
   ]
  },
  {
   "cell_type": "markdown",
   "id": "4b7ae710",
   "metadata": {
    "papermill": {
     "duration": 0.092518,
     "end_time": "2022-01-19T22:50:33.723727",
     "exception": false,
     "start_time": "2022-01-19T22:50:33.631209",
     "status": "completed"
    },
    "tags": []
   },
   "source": [
    "The target variable is right skewed, which is a problem for our model as it needs to be normally distributed. This means we need to apply a Log transformation."
   ]
  },
  {
   "cell_type": "markdown",
   "id": "ffef77d0",
   "metadata": {
    "execution": {
     "iopub.execute_input": "2022-01-17T08:02:56.058218Z",
     "iopub.status.busy": "2022-01-17T08:02:56.057931Z",
     "iopub.status.idle": "2022-01-17T08:02:56.062514Z",
     "shell.execute_reply": "2022-01-17T08:02:56.061625Z",
     "shell.execute_reply.started": "2022-01-17T08:02:56.058186Z"
    },
    "papermill": {
     "duration": 0.093658,
     "end_time": "2022-01-19T22:50:33.909060",
     "exception": false,
     "start_time": "2022-01-19T22:50:33.815402",
     "status": "completed"
    },
    "tags": []
   },
   "source": [
    "### Log transformation"
   ]
  },
  {
   "cell_type": "code",
   "execution_count": 10,
   "id": "04a43f9f",
   "metadata": {
    "execution": {
     "iopub.execute_input": "2022-01-19T22:50:34.098379Z",
     "iopub.status.busy": "2022-01-19T22:50:34.097547Z",
     "iopub.status.idle": "2022-01-19T22:50:34.829768Z",
     "shell.execute_reply": "2022-01-19T22:50:34.830360Z",
     "shell.execute_reply.started": "2022-01-19T22:39:44.072122Z"
    },
    "papermill": {
     "duration": 0.830738,
     "end_time": "2022-01-19T22:50:34.830550",
     "exception": false,
     "start_time": "2022-01-19T22:50:33.999812",
     "status": "completed"
    },
    "tags": []
   },
   "outputs": [
    {
     "data": {
      "image/png": "[encoded data removed]",
      "text/plain": [
       "<Figure size 864x432 with 1 Axes>"
      ]
     },
     "metadata": {},
     "output_type": "display_data"
    },
    {
     "data": {
      "image/png": "[encoded data removed]",
      "text/plain": [
       "<Figure size 864x432 with 1 Axes>"
      ]
     },
     "metadata": {},
     "output_type": "display_data"
    }
   ],
   "source": [
    "#Using numpy log1p fuction, which applies log(1+x) to elements of the column\n",
    "train[\"SalePrice\"] = np.log1p(train[\"SalePrice\"])\n",
    "\n",
    "sns.distplot(train['SalePrice'] , fit=norm);\n",
    "\n",
    "#Fitted parameters used by function\n",
    "(mu, sigma) = norm.fit(train['SalePrice'])\n",
    "\n",
    "#Visualize Normal Distribution\n",
    "plt.legend(['Normal dist. ($\\mu=$ {:.2f} and $\\sigma=$ {:.2f} )'.format(mu, sigma)],\n",
    "            loc='best')\n",
    "plt.ylabel('Frequency')\n",
    "plt.title('SalePrice distribution')\n",
    "\n",
    "#Visualize Quantile-Quantile plot\n",
    "fig = plt.figure()\n",
    "res = stats.probplot(train['SalePrice'], plot=plt)\n",
    "plt.show()"
   ]
  },
  {
   "cell_type": "markdown",
   "id": "654749b3",
   "metadata": {
    "papermill": {
     "duration": 0.095726,
     "end_time": "2022-01-19T22:50:35.023705",
     "exception": false,
     "start_time": "2022-01-19T22:50:34.927979",
     "status": "completed"
    },
    "tags": []
   },
   "source": [
    "The SalePrice has been transformed to be normally distributed."
   ]
  },
  {
   "cell_type": "markdown",
   "id": "0fac529c",
   "metadata": {
    "papermill": {
     "duration": 0.095061,
     "end_time": "2022-01-19T22:50:35.214804",
     "exception": false,
     "start_time": "2022-01-19T22:50:35.119743",
     "status": "completed"
    },
    "tags": []
   },
   "source": [
    "### Data Correlation"
   ]
  },
  {
   "cell_type": "code",
   "execution_count": 11,
   "id": "8083f097",
   "metadata": {
    "execution": {
     "iopub.execute_input": "2022-01-19T22:50:35.409868Z",
     "iopub.status.busy": "2022-01-19T22:50:35.409110Z",
     "iopub.status.idle": "2022-01-19T22:50:36.596835Z",
     "shell.execute_reply": "2022-01-19T22:50:36.596302Z",
     "shell.execute_reply.started": "2022-01-19T22:39:44.617118Z"
    },
    "papermill": {
     "duration": 1.288108,
     "end_time": "2022-01-19T22:50:36.596983",
     "exception": false,
     "start_time": "2022-01-19T22:50:35.308875",
     "status": "completed"
    },
    "tags": []
   },
   "outputs": [
    {
     "data": {
      "image/png": "[encoded data removed]",
      "text/plain": [
       "<Figure size 720x720 with 2 Axes>"
      ]
     },
     "metadata": {},
     "output_type": "display_data"
    }
   ],
   "source": [
    "#Correlation map to understand how other features relate to SalePrice\n",
    "corrmat = train.corr()\n",
    "mask = np.zeros_like(corrmat)\n",
    "mask[np.triu_indices_from(mask)] = True\n",
    "\n",
    "with sns.axes_style(\"white\"):\n",
    "\n",
    "    f, ax = plt.subplots(figsize=(10, 10))\n",
    "    sns.heatmap(corrmat, mask=mask, ax=ax, cbar_kws={\"shrink\": .82},vmax=.9, cmap='coolwarm', square=True)"
   ]
  },
  {
   "cell_type": "markdown",
   "id": "f6fb8c2d",
   "metadata": {
    "papermill": {
     "duration": 0.098205,
     "end_time": "2022-01-19T22:50:36.793160",
     "exception": false,
     "start_time": "2022-01-19T22:50:36.694955",
     "status": "completed"
    },
    "tags": []
   },
   "source": [
    "We can immediately spot how the OverallQual and GrLivArea features have the high positive correlation with SalePrice."
   ]
  },
  {
   "cell_type": "markdown",
   "id": "15c9996d",
   "metadata": {
    "papermill": {
     "duration": 0.096341,
     "end_time": "2022-01-19T22:50:36.986895",
     "exception": false,
     "start_time": "2022-01-19T22:50:36.890554",
     "status": "completed"
    },
    "tags": []
   },
   "source": [
    "### Feature Engineering\n",
    "Concatenating training and test set into same dataframe for preprocessing. Our feature engineering mainly revolves around harmonizing values so they more accurately reflect reality, whilst increasing predictions.\n",
    "\n",
    "*version 6 note: **data leakage will occur** since we impute values based on test+train datasets, leading to a too optimistic score. In future version we will calculate compute missing values and apply Box-Cox seperately.*"
   ]
  },
  {
   "cell_type": "code",
   "execution_count": 12,
   "id": "e4c75170",
   "metadata": {
    "execution": {
     "iopub.execute_input": "2022-01-19T22:50:37.185936Z",
     "iopub.status.busy": "2022-01-19T22:50:37.185220Z",
     "iopub.status.idle": "2022-01-19T22:50:37.218817Z",
     "shell.execute_reply": "2022-01-19T22:50:37.218147Z",
     "shell.execute_reply.started": "2022-01-19T22:39:45.624242Z"
    },
    "papermill": {
     "duration": 0.13427,
     "end_time": "2022-01-19T22:50:37.218979",
     "exception": false,
     "start_time": "2022-01-19T22:50:37.084709",
     "status": "completed"
    },
    "tags": []
   },
   "outputs": [
    {
     "name": "stdout",
     "output_type": "stream",
     "text": [
      "(1458, 80)\n",
      "(1459, 79)\n",
      "(2917, 79)\n"
     ]
    }
   ],
   "source": [
    "#Creating index for splitting datasets\n",
    "i_train = train.shape[0]\n",
    "i_test = test.shape[0]\n",
    "\n",
    "#Setting y_train\n",
    "y_train = train.SalePrice.values\n",
    "\n",
    "#Concatenating datasets\n",
    "df_concat = pd.concat((train, test)).reset_index(drop=True)\n",
    "df_concat.drop(['SalePrice'], axis=1, inplace=True)\n",
    "\n",
    "#Printing shape of datasets\n",
    "print(train.shape)\n",
    "print(test.shape)\n",
    "print(df_concat.shape)"
   ]
  },
  {
   "cell_type": "markdown",
   "id": "f3479b19",
   "metadata": {
    "papermill": {
     "duration": 0.098222,
     "end_time": "2022-01-19T22:50:37.416043",
     "exception": false,
     "start_time": "2022-01-19T22:50:37.317821",
     "status": "completed"
    },
    "tags": []
   },
   "source": [
    "### Missing Data"
   ]
  },
  {
   "cell_type": "code",
   "execution_count": 13,
   "id": "a13cd3bd",
   "metadata": {
    "execution": {
     "iopub.execute_input": "2022-01-19T22:50:37.617911Z",
     "iopub.status.busy": "2022-01-19T22:50:37.617177Z",
     "iopub.status.idle": "2022-01-19T22:50:37.643974Z",
     "shell.execute_reply": "2022-01-19T22:50:37.643407Z",
     "shell.execute_reply.started": "2022-01-19T22:39:45.650278Z"
    },
    "papermill": {
     "duration": 0.131369,
     "end_time": "2022-01-19T22:50:37.644125",
     "exception": false,
     "start_time": "2022-01-19T22:50:37.512756",
     "status": "completed"
    },
    "tags": []
   },
   "outputs": [
    {
     "data": {
      "text/html": [
       "<div>\n",
       "<style scoped>\n",
       "    .dataframe tbody tr th:only-of-type {\n",
       "        vertical-align: middle;\n",
       "    }\n",
       "\n",
       "    .dataframe tbody tr th {\n",
       "        vertical-align: top;\n",
       "    }\n",
       "\n",
       "    .dataframe thead th {\n",
       "        text-align: right;\n",
       "    }\n",
       "</style>\n",
       "<table border=\"1\" class=\"dataframe\">\n",
       "  <thead>\n",
       "    <tr style=\"text-align: right;\">\n",
       "      <th></th>\n",
       "      <th>Missing %</th>\n",
       "    </tr>\n",
       "  </thead>\n",
       "  <tbody>\n",
       "    <tr>\n",
       "      <th>PoolQC</th>\n",
       "      <td>99.69</td>\n",
       "    </tr>\n",
       "    <tr>\n",
       "      <th>MiscFeature</th>\n",
       "      <td>96.40</td>\n",
       "    </tr>\n",
       "    <tr>\n",
       "      <th>Alley</th>\n",
       "      <td>93.21</td>\n",
       "    </tr>\n",
       "    <tr>\n",
       "      <th>Fence</th>\n",
       "      <td>80.43</td>\n",
       "    </tr>\n",
       "    <tr>\n",
       "      <th>FireplaceQu</th>\n",
       "      <td>48.68</td>\n",
       "    </tr>\n",
       "  </tbody>\n",
       "</table>\n",
       "</div>"
      ],
      "text/plain": [
       "             Missing %\n",
       "PoolQC           99.69\n",
       "MiscFeature      96.40\n",
       "Alley            93.21\n",
       "Fence            80.43\n",
       "FireplaceQu      48.68"
      ]
     },
     "execution_count": 13,
     "metadata": {},
     "output_type": "execute_result"
    }
   ],
   "source": [
    "#Creating dataframe with percentages of missing values\n",
    "df_concat_na = (df_concat.isnull().sum() / len(df_concat)) * 100\n",
    "\n",
    "#Sorting by percentages of missing values\n",
    "df_concat_na = df_concat_na.sort_values(ascending=False)[:20] #values of missing percentages after index 20 drop to around 0.03.. \n",
    "\n",
    "missing_values = pd.DataFrame({'Missing %' :df_concat_na})\n",
    "missing_values.head()"
   ]
  },
  {
   "cell_type": "code",
   "execution_count": 14,
   "id": "89774a64",
   "metadata": {
    "execution": {
     "iopub.execute_input": "2022-01-19T22:50:37.870243Z",
     "iopub.status.busy": "2022-01-19T22:50:37.845323Z",
     "iopub.status.idle": "2022-01-19T22:50:38.315105Z",
     "shell.execute_reply": "2022-01-19T22:50:38.315658Z",
     "shell.execute_reply.started": "2022-01-19T22:39:45.673152Z"
    },
    "papermill": {
     "duration": 0.574248,
     "end_time": "2022-01-19T22:50:38.315836",
     "exception": false,
     "start_time": "2022-01-19T22:50:37.741588",
     "status": "completed"
    },
    "tags": []
   },
   "outputs": [
    {
     "data": {
      "image/png": "[encoded data removed]",
      "text/plain": [
       "<Figure size 864x432 with 1 Axes>"
      ]
     },
     "metadata": {},
     "output_type": "display_data"
    }
   ],
   "source": [
    "#Visualizing missing values by feauture\n",
    "sns.barplot(x=df_concat_na.index, y=df_concat_na)\n",
    "plt.xticks(rotation='90')\n",
    "plt.xlabel('Features', fontsize=15)\n",
    "plt.ylabel('% of missing values', fontsize=15)\n",
    "plt.title('Percent missing data by feature', fontsize=15);"
   ]
  },
  {
   "cell_type": "markdown",
   "id": "8acf7299",
   "metadata": {
    "papermill": {
     "duration": 0.098086,
     "end_time": "2022-01-19T22:50:38.512758",
     "exception": false,
     "start_time": "2022-01-19T22:50:38.414672",
     "status": "completed"
    },
    "tags": []
   },
   "source": [
    "We clearly see on where we need to focus our work.\n",
    "1. Coming up with a strategy to the missing values with over 80% NAs\n",
    "2. Defining approach in imputing other missing values "
   ]
  },
  {
   "cell_type": "markdown",
   "id": "96eb36f3",
   "metadata": {
    "papermill": {
     "duration": 0.099341,
     "end_time": "2022-01-19T22:50:38.711054",
     "exception": false,
     "start_time": "2022-01-19T22:50:38.611713",
     "status": "completed"
    },
    "tags": []
   },
   "source": [
    "### Imputing Missing Values\n",
    "We will handle missing values by descending order of %NA. For each feature we'll first learn what we can from the description provided with the datasets, and secondly, provide our method for dealing with the missing values."
   ]
  },
  {
   "cell_type": "markdown",
   "id": "7190ab0a",
   "metadata": {
    "papermill": {
     "duration": 0.098383,
     "end_time": "2022-01-19T22:50:38.910047",
     "exception": false,
     "start_time": "2022-01-19T22:50:38.811664",
     "status": "completed"
    },
    "tags": []
   },
   "source": [
    "**PoolQC:** Pool quality\n",
    "\t\t\n",
    "       Ex\tExcellent\n",
    "       Gd\tGood\n",
    "       TA\tAverage/Typical\n",
    "       Fa\tFair\n",
    "       NA\tNo Pool\n",
    "       \n",
    "As NA means 'No Pool' we can safely assume a missing value equates to None"
   ]
  },
  {
   "cell_type": "code",
   "execution_count": 15,
   "id": "c017df96",
   "metadata": {
    "execution": {
     "iopub.execute_input": "2022-01-19T22:50:39.119409Z",
     "iopub.status.busy": "2022-01-19T22:50:39.118313Z",
     "iopub.status.idle": "2022-01-19T22:50:39.121448Z",
     "shell.execute_reply": "2022-01-19T22:50:39.120794Z",
     "shell.execute_reply.started": "2022-01-19T22:39:46.245042Z"
    },
    "papermill": {
     "duration": 0.110413,
     "end_time": "2022-01-19T22:50:39.121612",
     "exception": false,
     "start_time": "2022-01-19T22:50:39.011199",
     "status": "completed"
    },
    "tags": []
   },
   "outputs": [],
   "source": [
    "df_concat['PoolQC'].fillna('None', inplace=True)"
   ]
  },
  {
   "cell_type": "markdown",
   "id": "81bc4070",
   "metadata": {
    "execution": {
     "iopub.execute_input": "2022-01-18T03:07:13.080149Z",
     "iopub.status.busy": "2022-01-18T03:07:13.079825Z",
     "iopub.status.idle": "2022-01-18T03:07:13.086762Z",
     "shell.execute_reply": "2022-01-18T03:07:13.085518Z",
     "shell.execute_reply.started": "2022-01-18T03:07:13.080109Z"
    },
    "papermill": {
     "duration": 0.099083,
     "end_time": "2022-01-19T22:50:39.320781",
     "exception": false,
     "start_time": "2022-01-19T22:50:39.221698",
     "status": "completed"
    },
    "tags": []
   },
   "source": [
    "**MiscFeature**: Miscellaneous feature not covered in other categories\n",
    "\t\t\n",
    "       Elev\tElevator\n",
    "       Gar2\t2nd Garage (if not described in garage section)\n",
    "       Othr\tOther\n",
    "       Shed\tShed (over 100 SF)\n",
    "       TenC\tTennis Court\n",
    "       NA\tNone\n",
    "\n",
    "Equally here, NA refers to lack of this feature. No misc. features means we can again apply a 'None' fill."
   ]
  },
  {
   "cell_type": "code",
   "execution_count": 16,
   "id": "1b543b84",
   "metadata": {
    "execution": {
     "iopub.execute_input": "2022-01-19T22:50:39.524623Z",
     "iopub.status.busy": "2022-01-19T22:50:39.523546Z",
     "iopub.status.idle": "2022-01-19T22:50:39.528894Z",
     "shell.execute_reply": "2022-01-19T22:50:39.529396Z",
     "shell.execute_reply.started": "2022-01-19T22:39:46.252306Z"
    },
    "papermill": {
     "duration": 0.109664,
     "end_time": "2022-01-19T22:50:39.529613",
     "exception": false,
     "start_time": "2022-01-19T22:50:39.419949",
     "status": "completed"
    },
    "tags": []
   },
   "outputs": [],
   "source": [
    "df_concat['MiscFeature'].fillna('None', inplace=True)"
   ]
  },
  {
   "cell_type": "markdown",
   "id": "721d2fbd",
   "metadata": {
    "papermill": {
     "duration": 0.100917,
     "end_time": "2022-01-19T22:50:39.730152",
     "exception": false,
     "start_time": "2022-01-19T22:50:39.629235",
     "status": "completed"
    },
    "tags": []
   },
   "source": [
    "**Alley**: Type of alley access to property\n",
    "\n",
    "       Grvl\tGravel\n",
    "       Pave\tPaved\n",
    "       NA \tNo alley access\n",
    "       \n",
    "NA means lack of this feature, so we fill missing values with None "
   ]
  },
  {
   "cell_type": "code",
   "execution_count": 17,
   "id": "28038484",
   "metadata": {
    "execution": {
     "iopub.execute_input": "2022-01-19T22:50:39.938140Z",
     "iopub.status.busy": "2022-01-19T22:50:39.937226Z",
     "iopub.status.idle": "2022-01-19T22:50:39.939452Z",
     "shell.execute_reply": "2022-01-19T22:50:39.940079Z",
     "shell.execute_reply.started": "2022-01-19T22:39:46.265837Z"
    },
    "papermill": {
     "duration": 0.110135,
     "end_time": "2022-01-19T22:50:39.940261",
     "exception": false,
     "start_time": "2022-01-19T22:50:39.830126",
     "status": "completed"
    },
    "tags": []
   },
   "outputs": [],
   "source": [
    "df_concat['Alley'].fillna('None', inplace=True)"
   ]
  },
  {
   "cell_type": "markdown",
   "id": "3763e8c3",
   "metadata": {
    "papermill": {
     "duration": 0.100656,
     "end_time": "2022-01-19T22:50:40.140916",
     "exception": false,
     "start_time": "2022-01-19T22:50:40.040260",
     "status": "completed"
    },
    "tags": []
   },
   "source": [
    "Fence: Fence quality\n",
    "\t\t\n",
    "       GdPrv\tGood Privacy\n",
    "       MnPrv\tMinimum Privacy\n",
    "       GdWo\tGood Wood\n",
    "       MnWw\tMinimum Wood/Wire\n",
    "       NA\tNo Fence\n",
    "\n",
    "NA means lack of this feature, so we fill missing values with None "
   ]
  },
  {
   "cell_type": "code",
   "execution_count": 18,
   "id": "738b9170",
   "metadata": {
    "execution": {
     "iopub.execute_input": "2022-01-19T22:50:40.348588Z",
     "iopub.status.busy": "2022-01-19T22:50:40.345296Z",
     "iopub.status.idle": "2022-01-19T22:50:40.350435Z",
     "shell.execute_reply": "2022-01-19T22:50:40.350986Z",
     "shell.execute_reply.started": "2022-01-19T22:39:46.277939Z"
    },
    "papermill": {
     "duration": 0.108318,
     "end_time": "2022-01-19T22:50:40.351217",
     "exception": false,
     "start_time": "2022-01-19T22:50:40.242899",
     "status": "completed"
    },
    "tags": []
   },
   "outputs": [],
   "source": [
    "df_concat['Fence'].fillna('None', inplace=True)"
   ]
  },
  {
   "cell_type": "markdown",
   "id": "f3a58059",
   "metadata": {
    "papermill": {
     "duration": 0.098356,
     "end_time": "2022-01-19T22:50:40.548603",
     "exception": false,
     "start_time": "2022-01-19T22:50:40.450247",
     "status": "completed"
    },
    "tags": []
   },
   "source": [
    "**FireplaceQu**: Fireplace quality\n",
    "\n",
    "       Ex\tExcellent - Exceptional Masonry Fireplace\n",
    "       Gd\tGood - Masonry Fireplace in main level\n",
    "       TA\tAverage - Prefabricated Fireplace in main living area or Masonry Fireplace in basement\n",
    "       Fa\tFair - Prefabricated Fireplace in basement\n",
    "       Po\tPoor - Ben Franklin Stove\n",
    "       NA\tNo Fireplace\n",
    "       \n",
    "NA means lack of this feature, so we fill missing values with None       "
   ]
  },
  {
   "cell_type": "code",
   "execution_count": 19,
   "id": "27997352",
   "metadata": {
    "execution": {
     "iopub.execute_input": "2022-01-19T22:50:40.750087Z",
     "iopub.status.busy": "2022-01-19T22:50:40.749371Z",
     "iopub.status.idle": "2022-01-19T22:50:40.753864Z",
     "shell.execute_reply": "2022-01-19T22:50:40.754346Z",
     "shell.execute_reply.started": "2022-01-19T22:39:46.289975Z"
    },
    "papermill": {
     "duration": 0.106933,
     "end_time": "2022-01-19T22:50:40.754530",
     "exception": false,
     "start_time": "2022-01-19T22:50:40.647597",
     "status": "completed"
    },
    "tags": []
   },
   "outputs": [],
   "source": [
    "df_concat['FireplaceQu'].fillna('None', inplace=True)"
   ]
  },
  {
   "cell_type": "markdown",
   "id": "9270a5af",
   "metadata": {
    "papermill": {
     "duration": 0.098187,
     "end_time": "2022-01-19T22:50:40.951332",
     "exception": false,
     "start_time": "2022-01-19T22:50:40.853145",
     "status": "completed"
    },
    "tags": []
   },
   "source": [
    "**LotFrontage**: Linear feet of street connected to property\n",
    "\n",
    "We assume here that neighborhoods contrain similar houses to fill in missing values by median LotFrontage per Neighborhood. Computing median has to be split per dataset, so as to not cause data leakage."
   ]
  },
  {
   "cell_type": "code",
   "execution_count": 20,
   "id": "a80a3c2a",
   "metadata": {
    "execution": {
     "iopub.execute_input": "2022-01-19T22:50:41.157775Z",
     "iopub.status.busy": "2022-01-19T22:50:41.157037Z",
     "iopub.status.idle": "2022-01-19T22:50:41.170026Z",
     "shell.execute_reply": "2022-01-19T22:50:41.170510Z",
     "shell.execute_reply.started": "2022-01-19T22:39:46.304538Z"
    },
    "papermill": {
     "duration": 0.11996,
     "end_time": "2022-01-19T22:50:41.170712",
     "exception": false,
     "start_time": "2022-01-19T22:50:41.050752",
     "status": "completed"
    },
    "tags": []
   },
   "outputs": [],
   "source": [
    "df_concat[\"LotFrontage\"] = df_concat.groupby(\"Neighborhood\")[\"LotFrontage\"].transform(\n",
    "    lambda x: x.fillna(x.median()))"
   ]
  },
  {
   "cell_type": "code",
   "execution_count": 21,
   "id": "43d38e19",
   "metadata": {
    "execution": {
     "iopub.execute_input": "2022-01-19T22:50:41.375069Z",
     "iopub.status.busy": "2022-01-19T22:50:41.374329Z",
     "iopub.status.idle": "2022-01-19T22:50:41.379267Z",
     "shell.execute_reply": "2022-01-19T22:50:41.379760Z",
     "shell.execute_reply.started": "2022-01-19T22:39:46.327782Z"
    },
    "papermill": {
     "duration": 0.109638,
     "end_time": "2022-01-19T22:50:41.379955",
     "exception": false,
     "start_time": "2022-01-19T22:50:41.270317",
     "status": "completed"
    },
    "tags": []
   },
   "outputs": [
    {
     "data": {
      "text/plain": [
       "'\\nv6 - Possible direction for future notebooks to compute missing values seperately\\n\\ntrain_copy = train.copy(deep=True)\\ntrain_copy.groupby(\"Neighborhood\")[\"LotFrontage\"].transform(\\n    lambda x: x.fillna(x.median()))\\n\\nLotF_median_train = train_copy[\\'LotFrontage\\']\\n\\ndf_concat.iloc[:i_train][\\'LotFrontage\\'] = LotF_median_train\\n'"
      ]
     },
     "execution_count": 21,
     "metadata": {},
     "output_type": "execute_result"
    }
   ],
   "source": [
    "'''\n",
    "v6 - Possible direction for future notebooks to compute missing values seperately\n",
    "\n",
    "train_copy = train.copy(deep=True)\n",
    "train_copy.groupby(\"Neighborhood\")[\"LotFrontage\"].transform(\n",
    "    lambda x: x.fillna(x.median()))\n",
    "\n",
    "LotF_median_train = train_copy['LotFrontage']\n",
    "\n",
    "df_concat.iloc[:i_train]['LotFrontage'] = LotF_median_train\n",
    "'''"
   ]
  },
  {
   "cell_type": "markdown",
   "id": "821f30be",
   "metadata": {
    "papermill": {
     "duration": 0.106481,
     "end_time": "2022-01-19T22:50:41.585378",
     "exception": false,
     "start_time": "2022-01-19T22:50:41.478897",
     "status": "completed"
    },
    "tags": []
   },
   "source": [
    "**GarageType**: Garage location\n",
    "\t\t\n",
    "       2Types\tMore than one type of garage\n",
    "       Attchd\tAttached to home\n",
    "       Basment\tBasement Garage\n",
    "       BuiltIn\tBuilt-In (Garage part of house - typically has room above garage)\n",
    "       CarPort\tCar Port\n",
    "       Detchd\tDetached from home\n",
    "       NA\tNo Garage\n",
    "\t\t\n",
    "**GarageFinish**: Interior finish of the garage\n",
    "\n",
    "       Fin\tFinished\n",
    "       RFn\tRough Finished\t\n",
    "       Unf\tUnfinished\n",
    "       NA\tNo Garage\n",
    "\n",
    "**GarageQual**: Garage quality\n",
    "\n",
    "       Ex\tExcellent\n",
    "       Gd\tGood\n",
    "       TA\tTypical/Average\n",
    "       Fa\tFair\n",
    "       Po\tPoor\n",
    "       NA\tNo Garage\n",
    "\t\t\n",
    "**GarageCond**: Garage condition\n",
    "\n",
    "       Ex\tExcellent\n",
    "       Gd\tGood\n",
    "       TA\tTypical/Average\n",
    "       Fa\tFair\n",
    "       Po\tPoor\n",
    "       NA\tNo Garage\n",
    "       \n",
    "NA means lack of this feature, so we fill missing values with None       "
   ]
  },
  {
   "cell_type": "code",
   "execution_count": 22,
   "id": "55ebe2d6",
   "metadata": {
    "execution": {
     "iopub.execute_input": "2022-01-19T22:50:41.794873Z",
     "iopub.status.busy": "2022-01-19T22:50:41.793955Z",
     "iopub.status.idle": "2022-01-19T22:50:41.796724Z",
     "shell.execute_reply": "2022-01-19T22:50:41.797274Z",
     "shell.execute_reply.started": "2022-01-19T22:39:46.335828Z"
    },
    "papermill": {
     "duration": 0.111176,
     "end_time": "2022-01-19T22:50:41.797446",
     "exception": false,
     "start_time": "2022-01-19T22:50:41.686270",
     "status": "completed"
    },
    "tags": []
   },
   "outputs": [],
   "source": [
    "for col in ('GarageType', 'GarageFinish', 'GarageQual', 'GarageCond'):\n",
    "    df_concat[col].fillna('None', inplace=True)"
   ]
  },
  {
   "cell_type": "markdown",
   "id": "79f5e6ea",
   "metadata": {
    "papermill": {
     "duration": 0.101264,
     "end_time": "2022-01-19T22:50:41.997876",
     "exception": false,
     "start_time": "2022-01-19T22:50:41.896612",
     "status": "completed"
    },
    "tags": []
   },
   "source": [
    "**GarageYrBlt**: Year garage was built\n",
    "\n",
    "**GarageCars**: Size of garage in car capacity\n",
    "\n",
    "**GarageArea**: Size of garage in square feet\n",
    "\n",
    "Missing numerical values will be replaced by 0"
   ]
  },
  {
   "cell_type": "code",
   "execution_count": 23,
   "id": "80280642",
   "metadata": {
    "execution": {
     "iopub.execute_input": "2022-01-19T22:50:42.202761Z",
     "iopub.status.busy": "2022-01-19T22:50:42.201726Z",
     "iopub.status.idle": "2022-01-19T22:50:42.207159Z",
     "shell.execute_reply": "2022-01-19T22:50:42.207747Z",
     "shell.execute_reply.started": "2022-01-19T22:39:46.350972Z"
    },
    "papermill": {
     "duration": 0.109969,
     "end_time": "2022-01-19T22:50:42.207926",
     "exception": false,
     "start_time": "2022-01-19T22:50:42.097957",
     "status": "completed"
    },
    "tags": []
   },
   "outputs": [],
   "source": [
    "for col in ('GarageYrBlt', 'GarageArea', 'GarageCars'):\n",
    "    df_concat[col].fillna(0, inplace=True)"
   ]
  },
  {
   "cell_type": "markdown",
   "id": "f5635b10",
   "metadata": {
    "papermill": {
     "duration": 0.09994,
     "end_time": "2022-01-19T22:50:42.406826",
     "exception": false,
     "start_time": "2022-01-19T22:50:42.306886",
     "status": "completed"
    },
    "tags": []
   },
   "source": [
    "**BsmtQual**: Evaluates the height of the basement\n",
    "\n",
    "       Ex\tExcellent (100+ inches)\t\n",
    "       Gd\tGood (90-99 inches)\n",
    "       TA\tTypical (80-89 inches)\n",
    "       Fa\tFair (70-79 inches)\n",
    "       Po\tPoor (<70 inches\n",
    "       NA\tNo Basement\n",
    "\t\t\n",
    "**BsmtCond**: Evaluates the general condition of the basement\n",
    "\n",
    "       Ex\tExcellent\n",
    "       Gd\tGood\n",
    "       TA\tTypical - slight dampness allowed\n",
    "       Fa\tFair - dampness or some cracking or settling\n",
    "       Po\tPoor - Severe cracking, settling, or wetness\n",
    "       NA\tNo Basement\n",
    "\t\n",
    "**BsmtExposure**: Refers to walkout or garden level walls\n",
    "\n",
    "       Gd\tGood Exposure\n",
    "       Av\tAverage Exposure (split levels or foyers typically score average or above)\t\n",
    "       Mn\tMimimum Exposure\n",
    "       No\tNo Exposure\n",
    "       NA\tNo Basement\n",
    "\t\n",
    "**BsmtFinType1**: Rating of basement finished area\n",
    "\n",
    "       GLQ\tGood Living Quarters\n",
    "       ALQ\tAverage Living Quarters\n",
    "       BLQ\tBelow Average Living Quarters\t\n",
    "       Rec\tAverage Rec Room\n",
    "       LwQ\tLow Quality\n",
    "       Unf\tUnfinshed\n",
    "       NA\tNo Basement\n",
    "\t\t\n",
    "**BsmtFinType2**: Rating of basement finished area (if multiple types)\n",
    "\n",
    "       GLQ\tGood Living Quarters\n",
    "       ALQ\tAverage Living Quarters\n",
    "       BLQ\tBelow Average Living Quarters\t\n",
    "       Rec\tAverage Rec Room\n",
    "       LwQ\tLow Quality\n",
    "       Unf\tUnfinshed\n",
    "       NA\tNo Basement\n",
    "       \n",
    "NA means lack of this feature, so we fill missing values with None.       "
   ]
  },
  {
   "cell_type": "code",
   "execution_count": 24,
   "id": "346ac4b8",
   "metadata": {
    "execution": {
     "iopub.execute_input": "2022-01-19T22:50:42.608862Z",
     "iopub.status.busy": "2022-01-19T22:50:42.607811Z",
     "iopub.status.idle": "2022-01-19T22:50:42.617522Z",
     "shell.execute_reply": "2022-01-19T22:50:42.618072Z",
     "shell.execute_reply.started": "2022-01-19T22:39:46.362288Z"
    },
    "papermill": {
     "duration": 0.112419,
     "end_time": "2022-01-19T22:50:42.618249",
     "exception": false,
     "start_time": "2022-01-19T22:50:42.505830",
     "status": "completed"
    },
    "tags": []
   },
   "outputs": [],
   "source": [
    "for col in ('BsmtQual', 'BsmtCond', 'BsmtExposure', 'BsmtFinType1', 'BsmtFinType2'):    \n",
    "    df_concat[col].fillna('None', inplace=True)"
   ]
  },
  {
   "cell_type": "markdown",
   "id": "04fff07a",
   "metadata": {
    "papermill": {
     "duration": 0.099543,
     "end_time": "2022-01-19T22:50:42.818602",
     "exception": false,
     "start_time": "2022-01-19T22:50:42.719059",
     "status": "completed"
    },
    "tags": []
   },
   "source": [
    "**BsmtFinSF1**: Type 1 finished square feet\n",
    "\n",
    "**BsmtFinSF2**: Type 2 finished square feet\n",
    "\n",
    "**BsmtUnfSF**: Unfinished square feet of basement area\n",
    "\n",
    "**TotalBsmtSF**: Total square feet of basement area\n",
    "\n",
    "**BsmtFullBath**: Basement full bathrooms\n",
    "\n",
    "**BsmtHalfBath**: Basement half bathrooms\n",
    "\n",
    "Missing numerical values will be replaced by 0"
   ]
  },
  {
   "cell_type": "code",
   "execution_count": 25,
   "id": "498ae9af",
   "metadata": {
    "execution": {
     "iopub.execute_input": "2022-01-19T22:50:43.029928Z",
     "iopub.status.busy": "2022-01-19T22:50:43.028739Z",
     "iopub.status.idle": "2022-01-19T22:50:43.033357Z",
     "shell.execute_reply": "2022-01-19T22:50:43.033965Z",
     "shell.execute_reply.started": "2022-01-19T22:39:46.379469Z"
    },
    "papermill": {
     "duration": 0.114743,
     "end_time": "2022-01-19T22:50:43.034152",
     "exception": false,
     "start_time": "2022-01-19T22:50:42.919409",
     "status": "completed"
    },
    "tags": []
   },
   "outputs": [],
   "source": [
    "for col in ('BsmtFinSF1', 'BsmtFinSF2', 'BsmtUnfSF','TotalBsmtSF', 'BsmtHalfBath', 'BsmtFullBath'):\n",
    "    df_concat[col].fillna(0, inplace=True)"
   ]
  },
  {
   "cell_type": "markdown",
   "id": "abea8f04",
   "metadata": {
    "papermill": {
     "duration": 0.102952,
     "end_time": "2022-01-19T22:50:43.238661",
     "exception": false,
     "start_time": "2022-01-19T22:50:43.135709",
     "status": "completed"
    },
    "tags": []
   },
   "source": [
    "**MasVnrType**: Masonry veneer type\n",
    "\n",
    "       BrkCmn\tBrick Common\n",
    "       BrkFace\tBrick Face\n",
    "       CBlock\tCinder Block\n",
    "       None\tNone\n",
    "       Stone\tStone\n",
    "       \n",
    "Missing values will be categorized as None       "
   ]
  },
  {
   "cell_type": "code",
   "execution_count": 26,
   "id": "e1e39862",
   "metadata": {
    "execution": {
     "iopub.execute_input": "2022-01-19T22:50:43.444078Z",
     "iopub.status.busy": "2022-01-19T22:50:43.443044Z",
     "iopub.status.idle": "2022-01-19T22:50:43.445278Z",
     "shell.execute_reply": "2022-01-19T22:50:43.445886Z",
     "shell.execute_reply.started": "2022-01-19T22:39:46.395823Z"
    },
    "papermill": {
     "duration": 0.108395,
     "end_time": "2022-01-19T22:50:43.446065",
     "exception": false,
     "start_time": "2022-01-19T22:50:43.337670",
     "status": "completed"
    },
    "tags": []
   },
   "outputs": [],
   "source": [
    "df_concat['MasVnrType'].fillna('None', inplace=True)"
   ]
  },
  {
   "cell_type": "markdown",
   "id": "ed4098eb",
   "metadata": {
    "papermill": {
     "duration": 0.099227,
     "end_time": "2022-01-19T22:50:43.643846",
     "exception": false,
     "start_time": "2022-01-19T22:50:43.544619",
     "status": "completed"
    },
    "tags": []
   },
   "source": [
    "**MasVnrArea** : Masonry veneer area in square feet\n",
    "As an architect I'm astonished this feature even exists. We assume missing values mean no masonry veneer, meaning 0."
   ]
  },
  {
   "cell_type": "code",
   "execution_count": 27,
   "id": "ea0afe58",
   "metadata": {
    "execution": {
     "iopub.execute_input": "2022-01-19T22:50:43.849108Z",
     "iopub.status.busy": "2022-01-19T22:50:43.848101Z",
     "iopub.status.idle": "2022-01-19T22:50:43.852808Z",
     "shell.execute_reply": "2022-01-19T22:50:43.853374Z",
     "shell.execute_reply.started": "2022-01-19T22:39:46.405065Z"
    },
    "papermill": {
     "duration": 0.10822,
     "end_time": "2022-01-19T22:50:43.853544",
     "exception": false,
     "start_time": "2022-01-19T22:50:43.745324",
     "status": "completed"
    },
    "tags": []
   },
   "outputs": [],
   "source": [
    "df_concat['MasVnrArea'].fillna(0, inplace=True)"
   ]
  },
  {
   "cell_type": "markdown",
   "id": "f97e14b5",
   "metadata": {
    "papermill": {
     "duration": 0.10113,
     "end_time": "2022-01-19T22:50:44.055622",
     "exception": false,
     "start_time": "2022-01-19T22:50:43.954492",
     "status": "completed"
    },
    "tags": []
   },
   "source": [
    "**MSZoning**: Identifies the general zoning classification of the sale.\n",
    "\t\t\n",
    "       A\tAgriculture\n",
    "       C\tCommercial\n",
    "       FV\tFloating Village Residential\n",
    "       I\tIndustrial\n",
    "       RH\tResidential High Density\n",
    "       RL\tResidential Low Density\n",
    "       RP\tResidential Low Density Park \n",
    "       RM\tResidential Medium Density\n",
    "       \n",
    "As RL is by far the most common, we take the mode and fill in missing values with RL.       "
   ]
  },
  {
   "cell_type": "code",
   "execution_count": 28,
   "id": "f67bf6cc",
   "metadata": {
    "execution": {
     "iopub.execute_input": "2022-01-19T22:50:44.267740Z",
     "iopub.status.busy": "2022-01-19T22:50:44.266690Z",
     "iopub.status.idle": "2022-01-19T22:50:44.274716Z",
     "shell.execute_reply": "2022-01-19T22:50:44.275260Z",
     "shell.execute_reply.started": "2022-01-19T22:39:46.418179Z"
    },
    "papermill": {
     "duration": 0.117566,
     "end_time": "2022-01-19T22:50:44.275431",
     "exception": false,
     "start_time": "2022-01-19T22:50:44.157865",
     "status": "completed"
    },
    "tags": []
   },
   "outputs": [
    {
     "data": {
      "text/plain": [
       "RL         2263\n",
       "RM          460\n",
       "FV          139\n",
       "RH           26\n",
       "C (all)      25\n",
       "Name: MSZoning, dtype: int64"
      ]
     },
     "execution_count": 28,
     "metadata": {},
     "output_type": "execute_result"
    }
   ],
   "source": [
    "df_concat['MSZoning'].value_counts()"
   ]
  },
  {
   "cell_type": "code",
   "execution_count": 29,
   "id": "a0971c55",
   "metadata": {
    "execution": {
     "iopub.execute_input": "2022-01-19T22:50:44.479171Z",
     "iopub.status.busy": "2022-01-19T22:50:44.478120Z",
     "iopub.status.idle": "2022-01-19T22:50:44.483483Z",
     "shell.execute_reply": "2022-01-19T22:50:44.484158Z",
     "shell.execute_reply.started": "2022-01-19T22:39:46.433185Z"
    },
    "papermill": {
     "duration": 0.109605,
     "end_time": "2022-01-19T22:50:44.484341",
     "exception": false,
     "start_time": "2022-01-19T22:50:44.374736",
     "status": "completed"
    },
    "tags": []
   },
   "outputs": [],
   "source": [
    "df_concat['MSZoning'].fillna('RL', inplace=True)"
   ]
  },
  {
   "cell_type": "markdown",
   "id": "4125aace",
   "metadata": {
    "papermill": {
     "duration": 0.100217,
     "end_time": "2022-01-19T22:50:44.687794",
     "exception": false,
     "start_time": "2022-01-19T22:50:44.587577",
     "status": "completed"
    },
    "tags": []
   },
   "source": [
    "**Utilities**: Type of utilities available\n",
    "\t\t\n",
    "       AllPub\tAll public Utilities (E,G,W,& S)\t\n",
    "       NoSewr\tElectricity, Gas, and Water (Septic Tank)\n",
    "       NoSeWa\tElectricity and Gas Only\n",
    "       ELO\tElectricity only\n",
    "       \n",
    "The value of this feauture is AllPub for most of the dataset, with only 1 NoSeWa feauture. We can fately assume this feauture will not be helpful in predictive modelling, and will remove it.      "
   ]
  },
  {
   "cell_type": "code",
   "execution_count": 30,
   "id": "8214c697",
   "metadata": {
    "execution": {
     "iopub.execute_input": "2022-01-19T22:50:44.894693Z",
     "iopub.status.busy": "2022-01-19T22:50:44.893642Z",
     "iopub.status.idle": "2022-01-19T22:50:44.902962Z",
     "shell.execute_reply": "2022-01-19T22:50:44.903546Z",
     "shell.execute_reply.started": "2022-01-19T22:39:46.442318Z"
    },
    "papermill": {
     "duration": 0.112456,
     "end_time": "2022-01-19T22:50:44.903748",
     "exception": false,
     "start_time": "2022-01-19T22:50:44.791292",
     "status": "completed"
    },
    "tags": []
   },
   "outputs": [
    {
     "data": {
      "text/plain": [
       "AllPub    2914\n",
       "NoSeWa       1\n",
       "Name: Utilities, dtype: int64"
      ]
     },
     "execution_count": 30,
     "metadata": {},
     "output_type": "execute_result"
    }
   ],
   "source": [
    "df_concat['Utilities'].value_counts()"
   ]
  },
  {
   "cell_type": "code",
   "execution_count": 31,
   "id": "2c3869e4",
   "metadata": {
    "execution": {
     "iopub.execute_input": "2022-01-19T22:50:45.114612Z",
     "iopub.status.busy": "2022-01-19T22:50:45.113415Z",
     "iopub.status.idle": "2022-01-19T22:50:45.120395Z",
     "shell.execute_reply": "2022-01-19T22:50:45.121017Z",
     "shell.execute_reply.started": "2022-01-19T22:39:46.456151Z"
    },
    "papermill": {
     "duration": 0.113733,
     "end_time": "2022-01-19T22:50:45.121194",
     "exception": false,
     "start_time": "2022-01-19T22:50:45.007461",
     "status": "completed"
    },
    "tags": []
   },
   "outputs": [],
   "source": [
    "df_concat.drop(['Utilities'], axis=1, inplace=True)"
   ]
  },
  {
   "cell_type": "markdown",
   "id": "4620254f",
   "metadata": {
    "papermill": {
     "duration": 0.099745,
     "end_time": "2022-01-19T22:50:45.321949",
     "exception": false,
     "start_time": "2022-01-19T22:50:45.222204",
     "status": "completed"
    },
    "tags": []
   },
   "source": [
    "**Functional**: Home functionality (Assume typical unless deductions are warranted)\n",
    "\n",
    "       Typ\tTypical Functionality\n",
    "       Min1\tMinor Deductions 1\n",
    "       Min2\tMinor Deductions 2\n",
    "       Mod\tModerate Deductions\n",
    "       Maj1\tMajor Deductions 1\n",
    "       Maj2\tMajor Deductions 2\n",
    "       Sev\tSeverely Damaged\n",
    "       Sal\tSalvage only\n",
    "       \n",
    "Any missing values will be transformed to Typ.     "
   ]
  },
  {
   "cell_type": "code",
   "execution_count": 32,
   "id": "a39d447c",
   "metadata": {
    "execution": {
     "iopub.execute_input": "2022-01-19T22:50:45.528147Z",
     "iopub.status.busy": "2022-01-19T22:50:45.527382Z",
     "iopub.status.idle": "2022-01-19T22:50:45.529514Z",
     "shell.execute_reply": "2022-01-19T22:50:45.530130Z",
     "shell.execute_reply.started": "2022-01-19T22:39:46.469132Z"
    },
    "papermill": {
     "duration": 0.108901,
     "end_time": "2022-01-19T22:50:45.530313",
     "exception": false,
     "start_time": "2022-01-19T22:50:45.421412",
     "status": "completed"
    },
    "tags": []
   },
   "outputs": [],
   "source": [
    "df_concat['Functional'].fillna('Typ', inplace=True)"
   ]
  },
  {
   "cell_type": "markdown",
   "id": "30219594",
   "metadata": {
    "papermill": {
     "duration": 0.099762,
     "end_time": "2022-01-19T22:50:45.752017",
     "exception": false,
     "start_time": "2022-01-19T22:50:45.652255",
     "status": "completed"
    },
    "tags": []
   },
   "source": [
    "**Electrical**: Electrical system\n",
    "\n",
    "       SBrkr\tStandard Circuit Breakers & Romex\n",
    "       FuseA\tFuse Box over 60 AMP and all Romex wiring (Average)\t\n",
    "       FuseF\t60 AMP Fuse Box and mostly Romex wiring (Fair)\n",
    "       FuseP\t60 AMP Fuse Box and mostly knob & tube wiring (poor)\n",
    "       Mix\tMixed\n",
    "       \n",
    "It's only NA value will be set to SBrkr.       "
   ]
  },
  {
   "cell_type": "code",
   "execution_count": 33,
   "id": "d3de04a3",
   "metadata": {
    "execution": {
     "iopub.execute_input": "2022-01-19T22:50:45.955185Z",
     "iopub.status.busy": "2022-01-19T22:50:45.954488Z",
     "iopub.status.idle": "2022-01-19T22:50:45.959663Z",
     "shell.execute_reply": "2022-01-19T22:50:45.960183Z",
     "shell.execute_reply.started": "2022-01-19T22:39:46.478745Z"
    },
    "papermill": {
     "duration": 0.108722,
     "end_time": "2022-01-19T22:50:45.960369",
     "exception": false,
     "start_time": "2022-01-19T22:50:45.851647",
     "status": "completed"
    },
    "tags": []
   },
   "outputs": [],
   "source": [
    "df_concat['Electrical'].fillna('SBrkr', inplace=True)"
   ]
  },
  {
   "cell_type": "markdown",
   "id": "a15c19b5",
   "metadata": {
    "papermill": {
     "duration": 0.099348,
     "end_time": "2022-01-19T22:50:46.160483",
     "exception": false,
     "start_time": "2022-01-19T22:50:46.061135",
     "status": "completed"
    },
    "tags": []
   },
   "source": [
    "**KitchenQual**: Kitchen quality\n",
    "\n",
    "       Ex\tExcellent\n",
    "       Gd\tGood\n",
    "       TA\tTypical/Average\n",
    "       Fa\tFair\n",
    "       Po\tPoor\n",
    "       \n",
    "We replace its only missing value by the mode of TA       "
   ]
  },
  {
   "cell_type": "code",
   "execution_count": 34,
   "id": "5b22b222",
   "metadata": {
    "execution": {
     "iopub.execute_input": "2022-01-19T22:50:46.366098Z",
     "iopub.status.busy": "2022-01-19T22:50:46.365427Z",
     "iopub.status.idle": "2022-01-19T22:50:46.371655Z",
     "shell.execute_reply": "2022-01-19T22:50:46.371017Z",
     "shell.execute_reply.started": "2022-01-19T22:39:46.491648Z"
    },
    "papermill": {
     "duration": 0.110686,
     "end_time": "2022-01-19T22:50:46.371815",
     "exception": false,
     "start_time": "2022-01-19T22:50:46.261129",
     "status": "completed"
    },
    "tags": []
   },
   "outputs": [],
   "source": [
    "df_concat['KitchenQual'].fillna('TA', inplace=True)"
   ]
  },
  {
   "cell_type": "markdown",
   "id": "b7c33240",
   "metadata": {
    "papermill": {
     "duration": 0.100031,
     "end_time": "2022-01-19T22:50:46.573613",
     "exception": false,
     "start_time": "2022-01-19T22:50:46.473582",
     "status": "completed"
    },
    "tags": []
   },
   "source": [
    "**Exterior1st**: Exterior covering on house\n",
    "**Exterior2nd**: Exterior covering on house (if more than one material)\n",
    "\n",
    "       AsbShng\tAsbestos Shingles\n",
    "       AsphShn\tAsphalt Shingles\n",
    "       BrkComm\tBrick Common\n",
    "       BrkFace\tBrick Face\n",
    "       CBlock\tCinder Block\n",
    "       CemntBd\tCement Board\n",
    "       HdBoard\tHard Board\n",
    "       ImStucc\tImitation Stucco\n",
    "       MetalSd\tMetal Siding\n",
    "       Other\tOther\n",
    "       Plywood\tPlywood\n",
    "       PreCast\tPreCast\t\n",
    "       Stone\tStone\n",
    "       Stucco\tStucco\n",
    "       VinylSd\tVinyl Siding\n",
    "       Wd Sdng\tWood Siding\n",
    "       WdShing\tWood Shingles\n",
    "\n",
    "Since both have a single missing value we again replace the most common string as the missing value."
   ]
  },
  {
   "cell_type": "code",
   "execution_count": 35,
   "id": "03a6da87",
   "metadata": {
    "execution": {
     "iopub.execute_input": "2022-01-19T22:50:46.778553Z",
     "iopub.status.busy": "2022-01-19T22:50:46.777899Z",
     "iopub.status.idle": "2022-01-19T22:50:46.783748Z",
     "shell.execute_reply": "2022-01-19T22:50:46.784295Z",
     "shell.execute_reply.started": "2022-01-19T22:39:46.503883Z"
    },
    "papermill": {
     "duration": 0.110716,
     "end_time": "2022-01-19T22:50:46.784469",
     "exception": false,
     "start_time": "2022-01-19T22:50:46.673753",
     "status": "completed"
    },
    "tags": []
   },
   "outputs": [],
   "source": [
    "df_concat['Exterior1st'].fillna('TA', inplace=True)\n",
    "df_concat['Exterior2nd'].fillna('TA', inplace=True)"
   ]
  },
  {
   "cell_type": "markdown",
   "id": "fb38d170",
   "metadata": {
    "papermill": {
     "duration": 0.101449,
     "end_time": "2022-01-19T22:50:46.986245",
     "exception": false,
     "start_time": "2022-01-19T22:50:46.884796",
     "status": "completed"
    },
    "tags": []
   },
   "source": [
    "**SaleType**: Type of sale\n",
    "\t\t\n",
    "       WD \tWarranty Deed - Conventional\n",
    "       CWD\tWarranty Deed - Cash\n",
    "       VWD\tWarranty Deed - VA Loan\n",
    "       New\tHome just constructed and sold\n",
    "       COD\tCourt Officer Deed/Estate\n",
    "       Con\tContract 15% Down payment regular terms\n",
    "       ConLw\tContract Low Down payment and low interest\n",
    "       ConLI\tContract Low Interest\n",
    "       ConLD\tContract Low Down\n",
    "       Oth\tOther\n",
    "       \n",
    "Missing values will be filled with most frequent type WD       "
   ]
  },
  {
   "cell_type": "code",
   "execution_count": 36,
   "id": "ae4b3aab",
   "metadata": {
    "execution": {
     "iopub.execute_input": "2022-01-19T22:50:47.193309Z",
     "iopub.status.busy": "2022-01-19T22:50:47.192615Z",
     "iopub.status.idle": "2022-01-19T22:50:47.197812Z",
     "shell.execute_reply": "2022-01-19T22:50:47.198331Z",
     "shell.execute_reply.started": "2022-01-19T22:39:46.514544Z"
    },
    "papermill": {
     "duration": 0.110414,
     "end_time": "2022-01-19T22:50:47.198519",
     "exception": false,
     "start_time": "2022-01-19T22:50:47.088105",
     "status": "completed"
    },
    "tags": []
   },
   "outputs": [],
   "source": [
    "df_concat['SaleType'].fillna('WD', inplace=True)"
   ]
  },
  {
   "cell_type": "markdown",
   "id": "d1ec45aa",
   "metadata": {
    "papermill": {
     "duration": 0.099004,
     "end_time": "2022-01-19T22:50:47.398980",
     "exception": false,
     "start_time": "2022-01-19T22:50:47.299976",
     "status": "completed"
    },
    "tags": []
   },
   "source": [
    "**Missing Values Check**"
   ]
  },
  {
   "cell_type": "code",
   "execution_count": 37,
   "id": "97f4a8b3",
   "metadata": {
    "execution": {
     "iopub.execute_input": "2022-01-19T22:50:47.619125Z",
     "iopub.status.busy": "2022-01-19T22:50:47.618066Z",
     "iopub.status.idle": "2022-01-19T22:50:47.628860Z",
     "shell.execute_reply": "2022-01-19T22:50:47.629321Z",
     "shell.execute_reply.started": "2022-01-19T22:39:46.527986Z"
    },
    "papermill": {
     "duration": 0.130815,
     "end_time": "2022-01-19T22:50:47.629501",
     "exception": false,
     "start_time": "2022-01-19T22:50:47.498686",
     "status": "completed"
    },
    "tags": []
   },
   "outputs": [
    {
     "data": {
      "text/html": [
       "<div>\n",
       "<style scoped>\n",
       "    .dataframe tbody tr th:only-of-type {\n",
       "        vertical-align: middle;\n",
       "    }\n",
       "\n",
       "    .dataframe tbody tr th {\n",
       "        vertical-align: top;\n",
       "    }\n",
       "\n",
       "    .dataframe thead th {\n",
       "        text-align: right;\n",
       "    }\n",
       "</style>\n",
       "<table border=\"1\" class=\"dataframe\">\n",
       "  <thead>\n",
       "    <tr style=\"text-align: right;\">\n",
       "      <th></th>\n",
       "      <th>Missing %</th>\n",
       "    </tr>\n",
       "  </thead>\n",
       "  <tbody>\n",
       "    <tr>\n",
       "      <th>MSSubClass</th>\n",
       "      <td>0.00</td>\n",
       "    </tr>\n",
       "    <tr>\n",
       "      <th>BedroomAbvGr</th>\n",
       "      <td>0.00</td>\n",
       "    </tr>\n",
       "    <tr>\n",
       "      <th>GarageType</th>\n",
       "      <td>0.00</td>\n",
       "    </tr>\n",
       "    <tr>\n",
       "      <th>FireplaceQu</th>\n",
       "      <td>0.00</td>\n",
       "    </tr>\n",
       "    <tr>\n",
       "      <th>Fireplaces</th>\n",
       "      <td>0.00</td>\n",
       "    </tr>\n",
       "  </tbody>\n",
       "</table>\n",
       "</div>"
      ],
      "text/plain": [
       "              Missing %\n",
       "MSSubClass         0.00\n",
       "BedroomAbvGr       0.00\n",
       "GarageType         0.00\n",
       "FireplaceQu        0.00\n",
       "Fireplaces         0.00"
      ]
     },
     "execution_count": 37,
     "metadata": {},
     "output_type": "execute_result"
    }
   ],
   "source": [
    "#Creating dataframe with percentages of missing values\n",
    "df_concat_na = (df_concat.isnull().sum() / len(df_concat)) * 100\n",
    "\n",
    "#Sorting by percentages of missing values\n",
    "df_concat_na = df_concat_na.sort_values(ascending=False) \n",
    "\n",
    "missing_values = pd.DataFrame({'Missing %' :df_concat_na})\n",
    "missing_values.head()"
   ]
  },
  {
   "cell_type": "markdown",
   "id": "9c2cf861",
   "metadata": {
    "papermill": {
     "duration": 0.099566,
     "end_time": "2022-01-19T22:50:47.828856",
     "exception": false,
     "start_time": "2022-01-19T22:50:47.729290",
     "status": "completed"
    },
    "tags": []
   },
   "source": [
    "### Label Encoding\n",
    "Simple (simplified) encoding.\n",
    "\n",
    "Future version: Transforming ordinal and nominal features"
   ]
  },
  {
   "cell_type": "code",
   "execution_count": 38,
   "id": "78c17388",
   "metadata": {
    "execution": {
     "iopub.execute_input": "2022-01-19T22:50:48.041327Z",
     "iopub.status.busy": "2022-01-19T22:50:48.040415Z",
     "iopub.status.idle": "2022-01-19T22:50:48.043765Z",
     "shell.execute_reply": "2022-01-19T22:50:48.044234Z",
     "shell.execute_reply.started": "2022-01-19T22:39:46.553806Z"
    },
    "papermill": {
     "duration": 0.115192,
     "end_time": "2022-01-19T22:50:48.044416",
     "exception": false,
     "start_time": "2022-01-19T22:50:47.929224",
     "status": "completed"
    },
    "tags": []
   },
   "outputs": [
    {
     "data": {
      "text/plain": [
       "\"\\n#Ordinal features\\nordinal_to_encode=['LandSlope','YearBuilt','YearRemodAdd','CentralAir','GarageYrBlt','PavedDrive','YrSold']\\n\\n#Encoding features for model with LabelEncoder\\nfor field in ordinal_to_encode:\\n    le = LabelEncoder()\\n    df_concat[field] = le.fit_transform(df_concat[field].values)\\n\""
      ]
     },
     "execution_count": 38,
     "metadata": {},
     "output_type": "execute_result"
    }
   ],
   "source": [
    "'''\n",
    "#Ordinal features\n",
    "ordinal_to_encode=['LandSlope','YearBuilt','YearRemodAdd','CentralAir','GarageYrBlt','PavedDrive','YrSold']\n",
    "\n",
    "#Encoding features for model with LabelEncoder\n",
    "for field in ordinal_to_encode:\n",
    "    le = LabelEncoder()\n",
    "    df_concat[field] = le.fit_transform(df_concat[field].values)\n",
    "'''"
   ]
  },
  {
   "cell_type": "code",
   "execution_count": 39,
   "id": "b223f581",
   "metadata": {
    "execution": {
     "iopub.execute_input": "2022-01-19T22:50:48.255887Z",
     "iopub.status.busy": "2022-01-19T22:50:48.254958Z",
     "iopub.status.idle": "2022-01-19T22:50:48.256942Z",
     "shell.execute_reply": "2022-01-19T22:50:48.257535Z",
     "shell.execute_reply.started": "2022-01-19T22:39:46.560964Z"
    },
    "papermill": {
     "duration": 0.111932,
     "end_time": "2022-01-19T22:50:48.257783",
     "exception": false,
     "start_time": "2022-01-19T22:50:48.145851",
     "status": "completed"
    },
    "tags": []
   },
   "outputs": [],
   "source": [
    "#ordinal_ready = ['OverallQual','OverallCond','MoSold','FullBath','KitchenAbvGr','TotRmsAbvGrd']"
   ]
  },
  {
   "cell_type": "code",
   "execution_count": 40,
   "id": "7b11c127",
   "metadata": {
    "execution": {
     "iopub.execute_input": "2022-01-19T22:50:48.467457Z",
     "iopub.status.busy": "2022-01-19T22:50:48.466723Z",
     "iopub.status.idle": "2022-01-19T22:50:48.473399Z",
     "shell.execute_reply": "2022-01-19T22:50:48.473986Z",
     "shell.execute_reply.started": "2022-01-19T22:39:46.570908Z"
    },
    "papermill": {
     "duration": 0.11172,
     "end_time": "2022-01-19T22:50:48.474166",
     "exception": false,
     "start_time": "2022-01-19T22:50:48.362446",
     "status": "completed"
    },
    "tags": []
   },
   "outputs": [
    {
     "data": {
      "text/plain": [
       "'ordinal_mappings = {\\n    \"MSSubClass\": [\\'None\\', 20, 30,40,45,50,60,70,75,80,85, 90,120,150,160,180,190], \\n    \"ExterQual\": [\\'None\\',\\'Fa\\',\\'TA\\',\\'Gd\\',\\'Ex\\'], \\n    \"LotShape\": [\\'None\\',\\'Reg\\',\\'IR1\\' ,\\'IR2\\',\\'IR3\\'], \\n    \"BsmtQual\": [\\'None\\',\\'Fa\\',\\'TA\\',\\'Gd\\',\\'Ex\\'], \\n    \"BsmtCond\": [\\'None\\',\\'Po\\',\\'Fa\\',\\'TA\\',\\'Gd\\',\\'Ex\\'], \\n    \"BsmtExposure\": [\\'None\\',\\'No\\',\\'Mn\\',\\'Av\\',\\'Gd\\'], \\n    \"BsmtFinType1\": [\\'None\\',\\'Unf\\',\\'LwQ\\', \\'Rec\\',\\'BLQ\\',\\'ALQ\\' , \\'GLQ\\' ], \\n    \"BsmtFinType2\": [\\'None\\',\\'Unf\\',\\'LwQ\\', \\'Rec\\',\\'BLQ\\',\\'ALQ\\' , \\'GLQ\\' ], \\n    \"HeatingQC\": [\\'None\\',\\'Po\\',\\'Fa\\',\\'TA\\',\\'Gd\\',\\'Ex\\'], \\n    \"Functional\": [\\'None\\',\\'Sev\\',\\'Maj2\\',\\'Maj1\\',\\'Mod\\',\\'Min2\\',\\'Min1\\',\\'Typ\\'], \\n    \"FireplaceQu\": [\\'None\\',\\'Po\\',\\'Fa\\',\\'TA\\',\\'Gd\\',\\'Ex\\'], \\n    \"KitchenQual\": [\\'None\\',\\'Fa\\',\\'TA\\',\\'Gd\\',\\'Ex\\'], \\n    \"GarageFinish\": [\\'None\\',\\'Unf\\',\\'RFn\\',\\'Fin\\'], \\n    \"GarageQual\": [\\'None\\',\\'Po\\',\\'Fa\\',\\'TA\\',\\'Gd\\',\\'Ex\\'], \\n    \"GarageCond\": [\\'None\\',\\'Po\\',\\'Fa\\',\\'TA\\',\\'Gd\\',\\'Ex\\'], \\n    \"PoolQC\": [\\'None\\',\\'Fa\\',\\'Gd\\',\\'Ex\\'], \\n    \"Fence\": [\\'None\\',\\'MnWw\\',\\'GdWo\\',\\'MnPrv\\',\\'GdPrv\\'],\\n}\\n\\n# transform to a suitable format for ce.OrdinalEncoder\\nce_ordinal_mappings = []\\nfor col, unique_values in ordinal_mappings.items():\\n    local_mapping = {val:idx for idx, val in enumerate(unique_values)}\\n    ce_ordinal_mappings.append({\"col\":col, \"mapping\":local_mapping})\\n    \\nencoder = ce.OrdinalEncoder(mapping=ce_ordinal_mappings, return_df=True)\\nencoder.fit_transform(train_X)\\nencoder.transform(test)\\n'"
      ]
     },
     "execution_count": 40,
     "metadata": {},
     "output_type": "execute_result"
    }
   ],
   "source": [
    "'''ordinal_mappings = {\n",
    "    \"MSSubClass\": ['None', 20, 30,40,45,50,60,70,75,80,85, 90,120,150,160,180,190], \n",
    "    \"ExterQual\": ['None','Fa','TA','Gd','Ex'], \n",
    "    \"LotShape\": ['None','Reg','IR1' ,'IR2','IR3'], \n",
    "    \"BsmtQual\": ['None','Fa','TA','Gd','Ex'], \n",
    "    \"BsmtCond\": ['None','Po','Fa','TA','Gd','Ex'], \n",
    "    \"BsmtExposure\": ['None','No','Mn','Av','Gd'], \n",
    "    \"BsmtFinType1\": ['None','Unf','LwQ', 'Rec','BLQ','ALQ' , 'GLQ' ], \n",
    "    \"BsmtFinType2\": ['None','Unf','LwQ', 'Rec','BLQ','ALQ' , 'GLQ' ], \n",
    "    \"HeatingQC\": ['None','Po','Fa','TA','Gd','Ex'], \n",
    "    \"Functional\": ['None','Sev','Maj2','Maj1','Mod','Min2','Min1','Typ'], \n",
    "    \"FireplaceQu\": ['None','Po','Fa','TA','Gd','Ex'], \n",
    "    \"KitchenQual\": ['None','Fa','TA','Gd','Ex'], \n",
    "    \"GarageFinish\": ['None','Unf','RFn','Fin'], \n",
    "    \"GarageQual\": ['None','Po','Fa','TA','Gd','Ex'], \n",
    "    \"GarageCond\": ['None','Po','Fa','TA','Gd','Ex'], \n",
    "    \"PoolQC\": ['None','Fa','Gd','Ex'], \n",
    "    \"Fence\": ['None','MnWw','GdWo','MnPrv','GdPrv'],\n",
    "}\n",
    "\n",
    "# transform to a suitable format for ce.OrdinalEncoder\n",
    "ce_ordinal_mappings = []\n",
    "for col, unique_values in ordinal_mappings.items():\n",
    "    local_mapping = {val:idx for idx, val in enumerate(unique_values)}\n",
    "    ce_ordinal_mappings.append({\"col\":col, \"mapping\":local_mapping})\n",
    "    \n",
    "encoder = ce.OrdinalEncoder(mapping=ce_ordinal_mappings, return_df=True)\n",
    "encoder.fit_transform(train_X)\n",
    "encoder.transform(test)\n",
    "'''"
   ]
  },
  {
   "cell_type": "code",
   "execution_count": 41,
   "id": "923ebcd4",
   "metadata": {
    "execution": {
     "iopub.execute_input": "2022-01-19T22:50:48.680504Z",
     "iopub.status.busy": "2022-01-19T22:50:48.679674Z",
     "iopub.status.idle": "2022-01-19T22:50:48.703676Z",
     "shell.execute_reply": "2022-01-19T22:50:48.704352Z",
     "shell.execute_reply.started": "2022-01-19T22:39:46.588729Z"
    },
    "papermill": {
     "duration": 0.12909,
     "end_time": "2022-01-19T22:50:48.704595",
     "exception": false,
     "start_time": "2022-01-19T22:50:48.575505",
     "status": "completed"
    },
    "tags": []
   },
   "outputs": [],
   "source": [
    "#MSSubClass\n",
    "df_concat['MSSubClass'].astype(str)\n",
    "\n",
    "\n",
    "#Changing OverallCond into a categorical variable\n",
    "df_concat['OverallCond'] = df_concat['OverallCond'].astype(str)\n",
    "\n",
    "\n",
    "#Year and month sold are transformed into categorical features.\n",
    "df_concat['YrSold'] = df_concat['YrSold'].astype(str)\n",
    "df_concat['MoSold'] = df_concat['MoSold'].astype(str)"
   ]
  },
  {
   "cell_type": "code",
   "execution_count": 42,
   "id": "77e40605",
   "metadata": {
    "execution": {
     "iopub.execute_input": "2022-01-19T22:50:48.911037Z",
     "iopub.status.busy": "2022-01-19T22:50:48.910377Z",
     "iopub.status.idle": "2022-01-19T22:50:48.998040Z",
     "shell.execute_reply": "2022-01-19T22:50:48.998536Z",
     "shell.execute_reply.started": "2022-01-19T22:39:46.611931Z"
    },
    "papermill": {
     "duration": 0.191899,
     "end_time": "2022-01-19T22:50:48.998771",
     "exception": false,
     "start_time": "2022-01-19T22:50:48.806872",
     "status": "completed"
    },
    "tags": []
   },
   "outputs": [],
   "source": [
    "#List of features to encode\n",
    "cols = ('FireplaceQu', 'BsmtQual', 'BsmtCond', 'GarageQual', 'GarageCond', \n",
    "        'ExterQual', 'ExterCond','HeatingQC', 'PoolQC', 'KitchenQual', 'BsmtFinType1', \n",
    "        'BsmtFinType2', 'Functional', 'Fence', 'BsmtExposure', 'GarageFinish', 'LandSlope',\n",
    "        'LotShape', 'PavedDrive', 'Street', 'Alley', 'CentralAir', 'MSSubClass', 'OverallCond', \n",
    "        'YrSold', 'MoSold')\n",
    "\n",
    "#Applying LabelEncoder to categorical features\n",
    "for i in cols:\n",
    "    le = LabelEncoder() \n",
    "    le.fit(list(df_concat[i].values)) \n",
    "    df_concat[i] = le.transform(list(df_concat[i].values))"
   ]
  },
  {
   "cell_type": "markdown",
   "id": "17a42005",
   "metadata": {
    "papermill": {
     "duration": 0.101997,
     "end_time": "2022-01-19T22:50:49.205130",
     "exception": false,
     "start_time": "2022-01-19T22:50:49.103133",
     "status": "completed"
    },
    "tags": []
   },
   "source": [
    "**Adding a Total sqf feature**\n",
    "\n",
    "Since we've seen the correlation between square footage on SalePrice, adding a feature combing all seperate parameters together seems logical as a great predictor. "
   ]
  },
  {
   "cell_type": "code",
   "execution_count": 43,
   "id": "e8e4cab7",
   "metadata": {
    "execution": {
     "iopub.execute_input": "2022-01-19T22:50:49.462229Z",
     "iopub.status.busy": "2022-01-19T22:50:49.461172Z",
     "iopub.status.idle": "2022-01-19T22:50:49.464143Z",
     "shell.execute_reply": "2022-01-19T22:50:49.463613Z",
     "shell.execute_reply.started": "2022-01-19T22:39:46.673161Z"
    },
    "papermill": {
     "duration": 0.133632,
     "end_time": "2022-01-19T22:50:49.464291",
     "exception": false,
     "start_time": "2022-01-19T22:50:49.330659",
     "status": "completed"
    },
    "tags": []
   },
   "outputs": [],
   "source": [
    "df_concat['TotalSF'] = df_concat['TotalBsmtSF'] + df_concat['1stFlrSF'] + df_concat['2ndFlrSF']"
   ]
  },
  {
   "cell_type": "markdown",
   "id": "e625b37c",
   "metadata": {
    "papermill": {
     "duration": 0.103584,
     "end_time": "2022-01-19T22:50:49.682890",
     "exception": false,
     "start_time": "2022-01-19T22:50:49.579306",
     "status": "completed"
    },
    "tags": []
   },
   "source": [
    "### Skewness and Box Cox Transformation\n",
    "Calculating degree of skewness and computing Box Cox transformation of 1 + x\n",
    "\n",
    "*Note: applying Box Cox transformation to both datasets at once will lead to data leakage and will be addressed in future versions.*"
   ]
  },
  {
   "cell_type": "code",
   "execution_count": 44,
   "id": "0b68f91f",
   "metadata": {
    "execution": {
     "iopub.execute_input": "2022-01-19T22:50:49.891358Z",
     "iopub.status.busy": "2022-01-19T22:50:49.890399Z",
     "iopub.status.idle": "2022-01-19T22:50:49.932798Z",
     "shell.execute_reply": "2022-01-19T22:50:49.932232Z",
     "shell.execute_reply.started": "2022-01-19T22:39:46.680635Z"
    },
    "papermill": {
     "duration": 0.14714,
     "end_time": "2022-01-19T22:50:49.932954",
     "exception": false,
     "start_time": "2022-01-19T22:50:49.785814",
     "status": "completed"
    },
    "tags": []
   },
   "outputs": [
    {
     "data": {
      "text/html": [
       "<div>\n",
       "<style scoped>\n",
       "    .dataframe tbody tr th:only-of-type {\n",
       "        vertical-align: middle;\n",
       "    }\n",
       "\n",
       "    .dataframe tbody tr th {\n",
       "        vertical-align: top;\n",
       "    }\n",
       "\n",
       "    .dataframe thead th {\n",
       "        text-align: right;\n",
       "    }\n",
       "</style>\n",
       "<table border=\"1\" class=\"dataframe\">\n",
       "  <thead>\n",
       "    <tr style=\"text-align: right;\">\n",
       "      <th></th>\n",
       "      <th>Skew</th>\n",
       "    </tr>\n",
       "  </thead>\n",
       "  <tbody>\n",
       "    <tr>\n",
       "      <th>MiscVal</th>\n",
       "      <td>21.94</td>\n",
       "    </tr>\n",
       "    <tr>\n",
       "      <th>PoolArea</th>\n",
       "      <td>17.69</td>\n",
       "    </tr>\n",
       "    <tr>\n",
       "      <th>LotArea</th>\n",
       "      <td>13.11</td>\n",
       "    </tr>\n",
       "    <tr>\n",
       "      <th>LowQualFinSF</th>\n",
       "      <td>12.08</td>\n",
       "    </tr>\n",
       "    <tr>\n",
       "      <th>3SsnPorch</th>\n",
       "      <td>11.37</td>\n",
       "    </tr>\n",
       "    <tr>\n",
       "      <th>LandSlope</th>\n",
       "      <td>4.97</td>\n",
       "    </tr>\n",
       "    <tr>\n",
       "      <th>KitchenAbvGr</th>\n",
       "      <td>4.30</td>\n",
       "    </tr>\n",
       "    <tr>\n",
       "      <th>BsmtFinSF2</th>\n",
       "      <td>4.14</td>\n",
       "    </tr>\n",
       "    <tr>\n",
       "      <th>EnclosedPorch</th>\n",
       "      <td>4.00</td>\n",
       "    </tr>\n",
       "    <tr>\n",
       "      <th>ScreenPorch</th>\n",
       "      <td>3.95</td>\n",
       "    </tr>\n",
       "  </tbody>\n",
       "</table>\n",
       "</div>"
      ],
      "text/plain": [
       "               Skew\n",
       "MiscVal       21.94\n",
       "PoolArea      17.69\n",
       "LotArea       13.11\n",
       "LowQualFinSF  12.08\n",
       "3SsnPorch     11.37\n",
       "LandSlope      4.97\n",
       "KitchenAbvGr   4.30\n",
       "BsmtFinSF2     4.14\n",
       "EnclosedPorch  4.00\n",
       "ScreenPorch    3.95"
      ]
     },
     "execution_count": 44,
     "metadata": {},
     "output_type": "execute_result"
    }
   ],
   "source": [
    "numeric_feats = df_concat.dtypes[df_concat.dtypes != \"object\"].index\n",
    "\n",
    "#Check the skew of all numerical features\n",
    "skewed_feats = df_concat[numeric_feats].apply(lambda x: skew(x.dropna())).sort_values(ascending=False)\n",
    "skewness = pd.DataFrame({'Skew' :skewed_feats})\n",
    "skewness.head(10)"
   ]
  },
  {
   "cell_type": "code",
   "execution_count": 45,
   "id": "b62168d3",
   "metadata": {
    "execution": {
     "iopub.execute_input": "2022-01-19T22:50:50.146392Z",
     "iopub.status.busy": "2022-01-19T22:50:50.145230Z",
     "iopub.status.idle": "2022-01-19T22:50:50.168022Z",
     "shell.execute_reply": "2022-01-19T22:50:50.167365Z",
     "shell.execute_reply.started": "2022-01-19T22:39:46.718689Z"
    },
    "papermill": {
     "duration": 0.132285,
     "end_time": "2022-01-19T22:50:50.168187",
     "exception": false,
     "start_time": "2022-01-19T22:50:50.035902",
     "status": "completed"
    },
    "tags": []
   },
   "outputs": [],
   "source": [
    "skewness = skewness[abs(skewness.Skew)>0.75]\n",
    "skewed_features = skewness.index\n",
    "lam = 0.15\n",
    "for feat in skewed_features:\n",
    "    #df_concat[feat] += 1\n",
    "    df_concat[feat] = boxcox1p(df_concat[feat], lam)"
   ]
  },
  {
   "cell_type": "markdown",
   "id": "853fdc69",
   "metadata": {
    "papermill": {
     "duration": 0.101124,
     "end_time": "2022-01-19T22:50:50.371942",
     "exception": false,
     "start_time": "2022-01-19T22:50:50.270818",
     "status": "completed"
    },
    "tags": []
   },
   "source": [
    "**Dummy Variables**"
   ]
  },
  {
   "cell_type": "code",
   "execution_count": 46,
   "id": "7698909d",
   "metadata": {
    "execution": {
     "iopub.execute_input": "2022-01-19T22:50:50.583923Z",
     "iopub.status.busy": "2022-01-19T22:50:50.583209Z",
     "iopub.status.idle": "2022-01-19T22:50:50.607672Z",
     "shell.execute_reply": "2022-01-19T22:50:50.608352Z",
     "shell.execute_reply.started": "2022-01-19T22:39:46.745228Z"
    },
    "papermill": {
     "duration": 0.135521,
     "end_time": "2022-01-19T22:50:50.608540",
     "exception": false,
     "start_time": "2022-01-19T22:50:50.473019",
     "status": "completed"
    },
    "tags": []
   },
   "outputs": [],
   "source": [
    "df_concat = pd.get_dummies(df_concat)"
   ]
  },
  {
   "cell_type": "markdown",
   "id": "8e61b917",
   "metadata": {
    "papermill": {
     "duration": 0.102467,
     "end_time": "2022-01-19T22:50:50.812789",
     "exception": false,
     "start_time": "2022-01-19T22:50:50.710322",
     "status": "completed"
    },
    "tags": []
   },
   "source": [
    "**Creating new training and test sets**"
   ]
  },
  {
   "cell_type": "code",
   "execution_count": 47,
   "id": "2bc4009e",
   "metadata": {
    "execution": {
     "iopub.execute_input": "2022-01-19T22:50:51.021375Z",
     "iopub.status.busy": "2022-01-19T22:50:51.020066Z",
     "iopub.status.idle": "2022-01-19T22:50:51.025466Z",
     "shell.execute_reply": "2022-01-19T22:50:51.026147Z",
     "shell.execute_reply.started": "2022-01-19T22:39:46.777183Z"
    },
    "papermill": {
     "duration": 0.111642,
     "end_time": "2022-01-19T22:50:51.026352",
     "exception": false,
     "start_time": "2022-01-19T22:50:50.914710",
     "status": "completed"
    },
    "tags": []
   },
   "outputs": [],
   "source": [
    "train = df_concat[:i_train]\n",
    "test = df_concat[i_train:]"
   ]
  },
  {
   "cell_type": "markdown",
   "id": "81de3e74",
   "metadata": {
    "papermill": {
     "duration": 0.102791,
     "end_time": "2022-01-19T22:50:51.232795",
     "exception": false,
     "start_time": "2022-01-19T22:50:51.130004",
     "status": "completed"
    },
    "tags": []
   },
   "source": [
    "### Modelling"
   ]
  },
  {
   "cell_type": "code",
   "execution_count": 48,
   "id": "30fe7054",
   "metadata": {
    "execution": {
     "iopub.execute_input": "2022-01-19T22:50:51.444746Z",
     "iopub.status.busy": "2022-01-19T22:50:51.443970Z",
     "iopub.status.idle": "2022-01-19T22:50:51.449516Z",
     "shell.execute_reply": "2022-01-19T22:50:51.450011Z",
     "shell.execute_reply.started": "2022-01-19T22:39:46.782870Z"
    },
    "papermill": {
     "duration": 0.112996,
     "end_time": "2022-01-19T22:50:51.450201",
     "exception": false,
     "start_time": "2022-01-19T22:50:51.337205",
     "status": "completed"
    },
    "tags": []
   },
   "outputs": [],
   "source": [
    "#Creating cross validation strategy with shuffle\n",
    "n_folds = 5\n",
    "\n",
    "def rmsle_cv(model):\n",
    "    kf = KFold(n_folds, shuffle=True, random_state=0).get_n_splits(train.values)\n",
    "    rmse= np.sqrt(-cross_val_score(model, train.values, y_train, scoring=\"neg_mean_squared_error\", cv = kf))\n",
    "    return(rmse)"
   ]
  },
  {
   "cell_type": "markdown",
   "id": "7ed6c38d",
   "metadata": {
    "papermill": {
     "duration": 0.101874,
     "end_time": "2022-01-19T22:50:51.659648",
     "exception": false,
     "start_time": "2022-01-19T22:50:51.557774",
     "status": "completed"
    },
    "tags": []
   },
   "source": [
    "**LASSO Regression**"
   ]
  },
  {
   "cell_type": "code",
   "execution_count": 49,
   "id": "a07171af",
   "metadata": {
    "execution": {
     "iopub.execute_input": "2022-01-19T22:50:51.872399Z",
     "iopub.status.busy": "2022-01-19T22:50:51.871345Z",
     "iopub.status.idle": "2022-01-19T22:50:51.873363Z",
     "shell.execute_reply": "2022-01-19T22:50:51.873882Z",
     "shell.execute_reply.started": "2022-01-19T22:39:46.796043Z"
    },
    "papermill": {
     "duration": 0.111932,
     "end_time": "2022-01-19T22:50:51.874057",
     "exception": false,
     "start_time": "2022-01-19T22:50:51.762125",
     "status": "completed"
    },
    "tags": []
   },
   "outputs": [],
   "source": [
    "lasso = make_pipeline(RobustScaler(), Lasso(alpha =0.0005, random_state=0))"
   ]
  },
  {
   "cell_type": "markdown",
   "id": "d7e8a970",
   "metadata": {
    "papermill": {
     "duration": 0.101561,
     "end_time": "2022-01-19T22:50:52.079446",
     "exception": false,
     "start_time": "2022-01-19T22:50:51.977885",
     "status": "completed"
    },
    "tags": []
   },
   "source": [
    "**Elastic Net Regression**"
   ]
  },
  {
   "cell_type": "code",
   "execution_count": 50,
   "id": "07b1d3d8",
   "metadata": {
    "execution": {
     "iopub.execute_input": "2022-01-19T22:50:52.288523Z",
     "iopub.status.busy": "2022-01-19T22:50:52.287485Z",
     "iopub.status.idle": "2022-01-19T22:50:52.292537Z",
     "shell.execute_reply": "2022-01-19T22:50:52.293089Z",
     "shell.execute_reply.started": "2022-01-19T22:39:46.808363Z"
    },
    "papermill": {
     "duration": 0.111266,
     "end_time": "2022-01-19T22:50:52.293271",
     "exception": false,
     "start_time": "2022-01-19T22:50:52.182005",
     "status": "completed"
    },
    "tags": []
   },
   "outputs": [],
   "source": [
    "ENet = make_pipeline(RobustScaler(), ElasticNet(alpha=0.0005, l1_ratio=.9, random_state=0))"
   ]
  },
  {
   "cell_type": "markdown",
   "id": "77d6e51e",
   "metadata": {
    "papermill": {
     "duration": 0.106712,
     "end_time": "2022-01-19T22:50:52.505533",
     "exception": false,
     "start_time": "2022-01-19T22:50:52.398821",
     "status": "completed"
    },
    "tags": []
   },
   "source": [
    "**Kernel Ridge Regression**"
   ]
  },
  {
   "cell_type": "code",
   "execution_count": 51,
   "id": "a934e13f",
   "metadata": {
    "execution": {
     "iopub.execute_input": "2022-01-19T22:50:52.712846Z",
     "iopub.status.busy": "2022-01-19T22:50:52.711809Z",
     "iopub.status.idle": "2022-01-19T22:50:52.716160Z",
     "shell.execute_reply": "2022-01-19T22:50:52.716688Z",
     "shell.execute_reply.started": "2022-01-19T22:39:46.822421Z"
    },
    "papermill": {
     "duration": 0.109812,
     "end_time": "2022-01-19T22:50:52.716859",
     "exception": false,
     "start_time": "2022-01-19T22:50:52.607047",
     "status": "completed"
    },
    "tags": []
   },
   "outputs": [],
   "source": [
    "KRR = KernelRidge(alpha=0.6, kernel='polynomial', degree=2, coef0=2.5)"
   ]
  },
  {
   "cell_type": "markdown",
   "id": "affa98df",
   "metadata": {
    "papermill": {
     "duration": 0.103021,
     "end_time": "2022-01-19T22:50:52.988681",
     "exception": false,
     "start_time": "2022-01-19T22:50:52.885660",
     "status": "completed"
    },
    "tags": []
   },
   "source": [
    "**Gradient Boosting**"
   ]
  },
  {
   "cell_type": "code",
   "execution_count": 52,
   "id": "e248f22f",
   "metadata": {
    "execution": {
     "iopub.execute_input": "2022-01-19T22:50:53.197505Z",
     "iopub.status.busy": "2022-01-19T22:50:53.196448Z",
     "iopub.status.idle": "2022-01-19T22:50:53.201352Z",
     "shell.execute_reply": "2022-01-19T22:50:53.201891Z",
     "shell.execute_reply.started": "2022-01-19T22:39:46.836488Z"
    },
    "papermill": {
     "duration": 0.110927,
     "end_time": "2022-01-19T22:50:53.202066",
     "exception": false,
     "start_time": "2022-01-19T22:50:53.091139",
     "status": "completed"
    },
    "tags": []
   },
   "outputs": [],
   "source": [
    "GBoost = GradientBoostingRegressor(n_estimators=3000, learning_rate=0.05,\n",
    "                                   max_depth=4, max_features='sqrt',\n",
    "                                   min_samples_leaf=15, min_samples_split=10, \n",
    "                                   loss='huber', random_state =0)\n",
    "\n"
   ]
  },
  {
   "cell_type": "markdown",
   "id": "8e7aadb0",
   "metadata": {
    "papermill": {
     "duration": 0.102917,
     "end_time": "2022-01-19T22:50:53.407430",
     "exception": false,
     "start_time": "2022-01-19T22:50:53.304513",
     "status": "completed"
    },
    "tags": []
   },
   "source": [
    "**XGBoost**"
   ]
  },
  {
   "cell_type": "code",
   "execution_count": 53,
   "id": "15da2e5b",
   "metadata": {
    "execution": {
     "iopub.execute_input": "2022-01-19T22:50:53.622626Z",
     "iopub.status.busy": "2022-01-19T22:50:53.621589Z",
     "iopub.status.idle": "2022-01-19T22:50:53.627031Z",
     "shell.execute_reply": "2022-01-19T22:50:53.627534Z",
     "shell.execute_reply.started": "2022-01-19T22:39:46.848664Z"
    },
    "papermill": {
     "duration": 0.112284,
     "end_time": "2022-01-19T22:50:53.627727",
     "exception": false,
     "start_time": "2022-01-19T22:50:53.515443",
     "status": "completed"
    },
    "tags": []
   },
   "outputs": [],
   "source": [
    "model_xgb = xgb.XGBRegressor(colsample_bytree=0.4603, gamma=0.0468, \n",
    "                             learning_rate=0.05, max_depth=3, \n",
    "                             min_child_weight=1.7817, n_estimators=2200,\n",
    "                             reg_alpha=0.4640, reg_lambda=0.8571,\n",
    "                             subsample=0.5213, silent=1,\n",
    "                             random_state =0, nthread = -1,\n",
    "                             verbosity = 0)"
   ]
  },
  {
   "cell_type": "markdown",
   "id": "aa01dc9c",
   "metadata": {
    "papermill": {
     "duration": 0.101412,
     "end_time": "2022-01-19T22:50:53.831040",
     "exception": false,
     "start_time": "2022-01-19T22:50:53.729628",
     "status": "completed"
    },
    "tags": []
   },
   "source": [
    "**LightGBM**"
   ]
  },
  {
   "cell_type": "code",
   "execution_count": 54,
   "id": "6360543b",
   "metadata": {
    "execution": {
     "iopub.execute_input": "2022-01-19T22:50:54.039248Z",
     "iopub.status.busy": "2022-01-19T22:50:54.038152Z",
     "iopub.status.idle": "2022-01-19T22:50:54.043531Z",
     "shell.execute_reply": "2022-01-19T22:50:54.044080Z",
     "shell.execute_reply.started": "2022-01-19T22:39:46.870071Z"
    },
    "papermill": {
     "duration": 0.111731,
     "end_time": "2022-01-19T22:50:54.044252",
     "exception": false,
     "start_time": "2022-01-19T22:50:53.932521",
     "status": "completed"
    },
    "tags": []
   },
   "outputs": [],
   "source": [
    "model_lgb = lgb.LGBMRegressor(objective='regression',num_leaves=5,\n",
    "                              learning_rate=0.05, n_estimators=720,\n",
    "                              max_bin = 55, bagging_fraction = 0.8,\n",
    "                              bagging_freq = 5, feature_fraction = 0.2319,\n",
    "                              feature_fraction_seed=9, bagging_seed=9,\n",
    "                              min_data_in_leaf =6, min_sum_hessian_in_leaf = 11,\n",
    "                              verbose_eval = -1)\n"
   ]
  },
  {
   "cell_type": "markdown",
   "id": "9b73836d",
   "metadata": {
    "papermill": {
     "duration": 0.101483,
     "end_time": "2022-01-19T22:50:54.248175",
     "exception": false,
     "start_time": "2022-01-19T22:50:54.146692",
     "status": "completed"
    },
    "tags": []
   },
   "source": [
    "### Model Scores"
   ]
  },
  {
   "cell_type": "code",
   "execution_count": 55,
   "id": "ffb8d36f",
   "metadata": {
    "execution": {
     "iopub.execute_input": "2022-01-19T22:50:54.456281Z",
     "iopub.status.busy": "2022-01-19T22:50:54.455298Z",
     "iopub.status.idle": "2022-01-19T22:50:55.359002Z",
     "shell.execute_reply": "2022-01-19T22:50:55.361189Z",
     "shell.execute_reply.started": "2022-01-19T22:39:46.880814Z"
    },
    "papermill": {
     "duration": 1.010593,
     "end_time": "2022-01-19T22:50:55.361639",
     "exception": false,
     "start_time": "2022-01-19T22:50:54.351046",
     "status": "completed"
    },
    "tags": []
   },
   "outputs": [
    {
     "name": "stdout",
     "output_type": "stream",
     "text": [
      "\n",
      "Lasso score: 0.1102 (0.0072)\n",
      "\n"
     ]
    }
   ],
   "source": [
    "score = rmsle_cv(lasso)\n",
    "print(\"\\nLasso score: {:.4f} ({:.4f})\\n\".format(score.mean(), score.std()))"
   ]
  },
  {
   "cell_type": "code",
   "execution_count": 56,
   "id": "9e250030",
   "metadata": {
    "execution": {
     "iopub.execute_input": "2022-01-19T22:50:55.627830Z",
     "iopub.status.busy": "2022-01-19T22:50:55.627136Z",
     "iopub.status.idle": "2022-01-19T22:50:56.575299Z",
     "shell.execute_reply": "2022-01-19T22:50:56.576310Z",
     "shell.execute_reply.started": "2022-01-19T22:39:47.661749Z"
    },
    "papermill": {
     "duration": 1.062138,
     "end_time": "2022-01-19T22:50:56.579970",
     "exception": false,
     "start_time": "2022-01-19T22:50:55.517832",
     "status": "completed"
    },
    "tags": []
   },
   "outputs": [
    {
     "name": "stdout",
     "output_type": "stream",
     "text": [
      "ElasticNet score: 0.1102 (0.0073)\n",
      "\n"
     ]
    }
   ],
   "source": [
    "score = rmsle_cv(ENet)\n",
    "print(\"ElasticNet score: {:.4f} ({:.4f})\\n\".format(score.mean(), score.std()))"
   ]
  },
  {
   "cell_type": "code",
   "execution_count": 57,
   "id": "0d8742b1",
   "metadata": {
    "execution": {
     "iopub.execute_input": "2022-01-19T22:50:56.878470Z",
     "iopub.status.busy": "2022-01-19T22:50:56.877777Z",
     "iopub.status.idle": "2022-01-19T22:50:57.358888Z",
     "shell.execute_reply": "2022-01-19T22:50:57.360027Z",
     "shell.execute_reply.started": "2022-01-19T22:39:48.468158Z"
    },
    "papermill": {
     "duration": 0.592855,
     "end_time": "2022-01-19T22:50:57.360344",
     "exception": false,
     "start_time": "2022-01-19T22:50:56.767489",
     "status": "completed"
    },
    "tags": []
   },
   "outputs": [
    {
     "name": "stdout",
     "output_type": "stream",
     "text": [
      "Kernel Ridge score: 0.1772 (0.0053)\n",
      "\n"
     ]
    }
   ],
   "source": [
    "score = rmsle_cv(KRR)\n",
    "print(\"Kernel Ridge score: {:.4f} ({:.4f})\\n\".format(score.mean(), score.std()))"
   ]
  },
  {
   "cell_type": "code",
   "execution_count": 58,
   "id": "5b541fcf",
   "metadata": {
    "execution": {
     "iopub.execute_input": "2022-01-19T22:50:57.649425Z",
     "iopub.status.busy": "2022-01-19T22:50:57.648598Z",
     "iopub.status.idle": "2022-01-19T22:51:50.197318Z",
     "shell.execute_reply": "2022-01-19T22:51:50.198185Z",
     "shell.execute_reply.started": "2022-01-19T22:39:48.817027Z"
    },
    "papermill": {
     "duration": 52.663334,
     "end_time": "2022-01-19T22:51:50.198456",
     "exception": false,
     "start_time": "2022-01-19T22:50:57.535122",
     "status": "completed"
    },
    "tags": []
   },
   "outputs": [
    {
     "name": "stdout",
     "output_type": "stream",
     "text": [
      "Gradient Boosting score: 0.1168 (0.0076)\n",
      "\n"
     ]
    }
   ],
   "source": [
    "score = rmsle_cv(GBoost)\n",
    "print(\"Gradient Boosting score: {:.4f} ({:.4f})\\n\".format(score.mean(), score.std()))"
   ]
  },
  {
   "cell_type": "code",
   "execution_count": 59,
   "id": "bea31c19",
   "metadata": {
    "execution": {
     "iopub.execute_input": "2022-01-19T22:51:50.416295Z",
     "iopub.status.busy": "2022-01-19T22:51:50.415545Z",
     "iopub.status.idle": "2022-01-19T22:52:53.135745Z",
     "shell.execute_reply": "2022-01-19T22:52:53.136294Z",
     "shell.execute_reply.started": "2022-01-19T22:40:34.437298Z"
    },
    "papermill": {
     "duration": 62.831818,
     "end_time": "2022-01-19T22:52:53.136475",
     "exception": false,
     "start_time": "2022-01-19T22:51:50.304657",
     "status": "completed"
    },
    "tags": []
   },
   "outputs": [
    {
     "name": "stdout",
     "output_type": "stream",
     "text": [
      "Xgboost score: 0.1162 (0.0068)\n",
      "\n"
     ]
    }
   ],
   "source": [
    "score = rmsle_cv(model_xgb)\n",
    "print(\"Xgboost score: {:.4f} ({:.4f})\\n\".format(score.mean(), score.std()))"
   ]
  },
  {
   "cell_type": "code",
   "execution_count": 60,
   "id": "3ff3d408",
   "metadata": {
    "execution": {
     "iopub.execute_input": "2022-01-19T22:52:53.354519Z",
     "iopub.status.busy": "2022-01-19T22:52:53.353468Z",
     "iopub.status.idle": "2022-01-19T22:52:55.831936Z",
     "shell.execute_reply": "2022-01-19T22:52:55.833038Z",
     "shell.execute_reply.started": "2022-01-19T22:41:34.120292Z"
    },
    "papermill": {
     "duration": 2.590384,
     "end_time": "2022-01-19T22:52:55.833262",
     "exception": false,
     "start_time": "2022-01-19T22:52:53.242878",
     "status": "completed"
    },
    "tags": []
   },
   "outputs": [
    {
     "name": "stdout",
     "output_type": "stream",
     "text": [
      "[LightGBM] [Warning] Unknown parameter: verbose_eval\n",
      "[LightGBM] [Warning] feature_fraction is set=0.2319, colsample_bytree=1.0 will be ignored. Current value: feature_fraction=0.2319\n",
      "[LightGBM] [Warning] min_sum_hessian_in_leaf is set=11, min_child_weight=0.001 will be ignored. Current value: min_sum_hessian_in_leaf=11\n",
      "[LightGBM] [Warning] min_data_in_leaf is set=6, min_child_samples=20 will be ignored. Current value: min_data_in_leaf=6\n",
      "[LightGBM] [Warning] bagging_freq is set=5, subsample_freq=0 will be ignored. Current value: bagging_freq=5\n",
      "[LightGBM] [Warning] bagging_fraction is set=0.8, subsample=1.0 will be ignored. Current value: bagging_fraction=0.8\n",
      "[LightGBM] [Warning] Unknown parameter: verbose_eval\n",
      "[LightGBM] [Warning] feature_fraction is set=0.2319, colsample_bytree=1.0 will be ignored. Current value: feature_fraction=0.2319\n",
      "[LightGBM] [Warning] min_sum_hessian_in_leaf is set=11, min_child_weight=0.001 will be ignored. Current value: min_sum_hessian_in_leaf=11\n",
      "[LightGBM] [Warning] min_data_in_leaf is set=6, min_child_samples=20 will be ignored. Current value: min_data_in_leaf=6\n",
      "[LightGBM] [Warning] bagging_freq is set=5, subsample_freq=0 will be ignored. Current value: bagging_freq=5\n",
      "[LightGBM] [Warning] bagging_fraction is set=0.8, subsample=1.0 will be ignored. Current value: bagging_fraction=0.8\n",
      "[LightGBM] [Warning] Unknown parameter: verbose_eval\n",
      "[LightGBM] [Warning] feature_fraction is set=0.2319, colsample_bytree=1.0 will be ignored. Current value: feature_fraction=0.2319\n",
      "[LightGBM] [Warning] min_sum_hessian_in_leaf is set=11, min_child_weight=0.001 will be ignored. Current value: min_sum_hessian_in_leaf=11\n",
      "[LightGBM] [Warning] min_data_in_leaf is set=6, min_child_samples=20 will be ignored. Current value: min_data_in_leaf=6\n",
      "[LightGBM] [Warning] bagging_freq is set=5, subsample_freq=0 will be ignored. Current value: bagging_freq=5\n",
      "[LightGBM] [Warning] bagging_fraction is set=0.8, subsample=1.0 will be ignored. Current value: bagging_fraction=0.8\n",
      "[LightGBM] [Warning] Unknown parameter: verbose_eval\n",
      "[LightGBM] [Warning] feature_fraction is set=0.2319, colsample_bytree=1.0 will be ignored. Current value: feature_fraction=0.2319\n",
      "[LightGBM] [Warning] min_sum_hessian_in_leaf is set=11, min_child_weight=0.001 will be ignored. Current value: min_sum_hessian_in_leaf=11\n",
      "[LightGBM] [Warning] min_data_in_leaf is set=6, min_child_samples=20 will be ignored. Current value: min_data_in_leaf=6\n",
      "[LightGBM] [Warning] bagging_freq is set=5, subsample_freq=0 will be ignored. Current value: bagging_freq=5\n",
      "[LightGBM] [Warning] bagging_fraction is set=0.8, subsample=1.0 will be ignored. Current value: bagging_fraction=0.8\n",
      "[LightGBM] [Warning] Unknown parameter: verbose_eval\n",
      "[LightGBM] [Warning] feature_fraction is set=0.2319, colsample_bytree=1.0 will be ignored. Current value: feature_fraction=0.2319\n",
      "[LightGBM] [Warning] min_sum_hessian_in_leaf is set=11, min_child_weight=0.001 will be ignored. Current value: min_sum_hessian_in_leaf=11\n",
      "[LightGBM] [Warning] min_data_in_leaf is set=6, min_child_samples=20 will be ignored. Current value: min_data_in_leaf=6\n",
      "[LightGBM] [Warning] bagging_freq is set=5, subsample_freq=0 will be ignored. Current value: bagging_freq=5\n",
      "[LightGBM] [Warning] bagging_fraction is set=0.8, subsample=1.0 will be ignored. Current value: bagging_fraction=0.8\n",
      "LGBM score: 0.1170 (0.0056)\n",
      "\n"
     ]
    }
   ],
   "source": [
    "score = rmsle_cv(model_lgb)\n",
    "print(\"LGBM score: {:.4f} ({:.4f})\\n\" .format(score.mean(), score.std()))"
   ]
  },
  {
   "cell_type": "markdown",
   "id": "89e1d446",
   "metadata": {
    "papermill": {
     "duration": 0.109381,
     "end_time": "2022-01-19T22:52:56.053156",
     "exception": false,
     "start_time": "2022-01-19T22:52:55.943775",
     "status": "completed"
    },
    "tags": []
   },
   "source": [
    "### Stacking Models\n",
    "\n",
    "\n",
    "**Average Base Models**\n",
    "\n",
    "Building a new scaleable class to extend scikit-learn with our model"
   ]
  },
  {
   "cell_type": "code",
   "execution_count": 61,
   "id": "932045a2",
   "metadata": {
    "execution": {
     "iopub.execute_input": "2022-01-19T22:52:56.282745Z",
     "iopub.status.busy": "2022-01-19T22:52:56.280397Z",
     "iopub.status.idle": "2022-01-19T22:52:56.283487Z",
     "shell.execute_reply": "2022-01-19T22:52:56.284022Z",
     "shell.execute_reply.started": "2022-01-19T22:41:36.263835Z"
    },
    "papermill": {
     "duration": 0.120798,
     "end_time": "2022-01-19T22:52:56.284203",
     "exception": false,
     "start_time": "2022-01-19T22:52:56.163405",
     "status": "completed"
    },
    "tags": []
   },
   "outputs": [],
   "source": [
    "class AverageModels(BaseEstimator, RegressorMixin, TransformerMixin):\n",
    "    def __init__(self, models):\n",
    "        self.models = models\n",
    "        \n",
    "    #Define clones of original models to fit the data\n",
    "    def fit(self, X, y):\n",
    "        self.models_ = [clone(x) for x in self.models]\n",
    "        \n",
    "        #Train cloned base models\n",
    "        for model in self.models_:\n",
    "            model.fit(X, y)\n",
    "\n",
    "        return self\n",
    "    \n",
    "    #Predictions for cloned models and get average\n",
    "    def predict(self, X):\n",
    "        predictions = np.column_stack([\n",
    "            model.predict(X) for model in self.models_\n",
    "        ])\n",
    "        return np.mean(predictions, axis=1) "
   ]
  },
  {
   "cell_type": "markdown",
   "id": "b4ab430c",
   "metadata": {
    "papermill": {
     "duration": 0.107341,
     "end_time": "2022-01-19T22:52:56.496936",
     "exception": false,
     "start_time": "2022-01-19T22:52:56.389595",
     "status": "completed"
    },
    "tags": []
   },
   "source": [
    "**Average Base Models Score**"
   ]
  },
  {
   "cell_type": "code",
   "execution_count": 62,
   "id": "47795672",
   "metadata": {
    "execution": {
     "iopub.execute_input": "2022-01-19T22:52:56.713898Z",
     "iopub.status.busy": "2022-01-19T22:52:56.713094Z",
     "iopub.status.idle": "2022-01-19T22:53:51.677700Z",
     "shell.execute_reply": "2022-01-19T22:53:51.678239Z",
     "shell.execute_reply.started": "2022-01-19T22:41:36.273511Z"
    },
    "papermill": {
     "duration": 55.073198,
     "end_time": "2022-01-19T22:53:51.678454",
     "exception": false,
     "start_time": "2022-01-19T22:52:56.605256",
     "status": "completed"
    },
    "tags": []
   },
   "outputs": [
    {
     "name": "stdout",
     "output_type": "stream",
     "text": [
      " Averaged base models score: 0.1134 (0.0081)\n",
      "\n"
     ]
    }
   ],
   "source": [
    "averaged_models = AverageModels(models = (lasso, ENet, GBoost, KRR))\n",
    "\n",
    "score = rmsle_cv(averaged_models)\n",
    "print(\" Averaged base models score: {:.4f} ({:.4f})\\n\".format(score.mean(), score.std()))"
   ]
  },
  {
   "cell_type": "markdown",
   "id": "d9219783",
   "metadata": {
    "papermill": {
     "duration": 0.110034,
     "end_time": "2022-01-19T22:53:51.895809",
     "exception": false,
     "start_time": "2022-01-19T22:53:51.785775",
     "status": "completed"
    },
    "tags": []
   },
   "source": [
    "Even the simplest stacking approach offers great improvement to our score, and encouragement to keep exploring further options."
   ]
  },
  {
   "cell_type": "markdown",
   "id": "8a2fbd62",
   "metadata": {
    "papermill": {
     "duration": 0.10494,
     "end_time": "2022-01-19T22:53:52.107308",
     "exception": false,
     "start_time": "2022-01-19T22:53:52.002368",
     "status": "completed"
    },
    "tags": []
   },
   "source": [
    "**Meta-model**\n",
    "\n",
    "In this model of models we use our base models to train a new meta-model. That's a lot of models.\n",
    "\n",
    "1. Create train and holdout sets\n",
    "2. Train base models on train set\n",
    "3. Test base models on holdout\n",
    "4. Use predictions as output to train meta-model"
   ]
  },
  {
   "cell_type": "markdown",
   "id": "21727252",
   "metadata": {
    "papermill": {
     "duration": 0.106089,
     "end_time": "2022-01-19T22:53:52.321279",
     "exception": false,
     "start_time": "2022-01-19T22:53:52.215190",
     "status": "completed"
    },
    "tags": []
   },
   "source": [
    "**Stacking Averaged Base Models**"
   ]
  },
  {
   "cell_type": "code",
   "execution_count": 63,
   "id": "af3ab057",
   "metadata": {
    "execution": {
     "iopub.execute_input": "2022-01-19T22:53:52.550301Z",
     "iopub.status.busy": "2022-01-19T22:53:52.549148Z",
     "iopub.status.idle": "2022-01-19T22:53:52.551799Z",
     "shell.execute_reply": "2022-01-19T22:53:52.552531Z",
     "shell.execute_reply.started": "2022-01-19T22:42:23.396839Z"
    },
    "papermill": {
     "duration": 0.124474,
     "end_time": "2022-01-19T22:53:52.552818",
     "exception": false,
     "start_time": "2022-01-19T22:53:52.428344",
     "status": "completed"
    },
    "tags": []
   },
   "outputs": [],
   "source": [
    "class StackingAveragedModels(BaseEstimator, RegressorMixin, TransformerMixin):\n",
    "    def __init__(self, base_models, meta_model, n_folds=5):\n",
    "        self.base_models = base_models\n",
    "        self.meta_model = meta_model\n",
    "        self.n_folds = n_folds\n",
    "   \n",
    "    #Fit the data on clones of the original models\n",
    "    def fit(self, X, y):\n",
    "        self.base_models_ = [list() for x in self.base_models]\n",
    "        self.meta_model_ = clone(self.meta_model)\n",
    "        kfold = KFold(n_splits=self.n_folds, shuffle=True, random_state=156)\n",
    "        \n",
    "        # Train cloned base models then create out-of-fold predictions to train the cloned meta-model\n",
    "        out_of_fold_predictions = np.zeros((X.shape[0], len(self.base_models)))\n",
    "        for i, model in enumerate(self.base_models):\n",
    "            for train_index, holdout_index in kfold.split(X, y):\n",
    "                instance = clone(model)\n",
    "                self.base_models_[i].append(instance)\n",
    "                instance.fit(X[train_index], y[train_index])\n",
    "                y_pred = instance.predict(X[holdout_index])\n",
    "                out_of_fold_predictions[holdout_index, i] = y_pred\n",
    "                \n",
    "        #Train the cloned meta-model using the out-of-fold predictions as new feature\n",
    "        self.meta_model_.fit(out_of_fold_predictions, y)\n",
    "        return self\n",
    "   \n",
    "    #Predictions of all base models on test data and use the averaged predictions as \n",
    "    #meta-features for the final prediction\n",
    "    def predict(self, X):\n",
    "        meta_features = np.column_stack([\n",
    "            np.column_stack([model.predict(X) for model in base_models]).mean(axis=1)\n",
    "            for base_models in self.base_models_ ])\n",
    "        return self.meta_model_.predict(meta_features)"
   ]
  },
  {
   "cell_type": "markdown",
   "id": "39c19a0d",
   "metadata": {
    "papermill": {
     "duration": 0.114397,
     "end_time": "2022-01-19T22:53:52.798460",
     "exception": false,
     "start_time": "2022-01-19T22:53:52.684063",
     "status": "completed"
    },
    "tags": []
   },
   "source": [
    "**Stacking Averaged Models Score**"
   ]
  },
  {
   "cell_type": "code",
   "execution_count": 64,
   "id": "61ad23d9",
   "metadata": {
    "execution": {
     "iopub.execute_input": "2022-01-19T22:53:53.022871Z",
     "iopub.status.busy": "2022-01-19T22:53:53.020286Z",
     "iopub.status.idle": "2022-01-19T22:57:53.944025Z",
     "shell.execute_reply": "2022-01-19T22:57:53.944802Z",
     "shell.execute_reply.started": "2022-01-19T22:42:23.423392Z"
    },
    "papermill": {
     "duration": 241.033609,
     "end_time": "2022-01-19T22:57:53.945064",
     "exception": false,
     "start_time": "2022-01-19T22:53:52.911455",
     "status": "completed"
    },
    "tags": []
   },
   "outputs": [
    {
     "name": "stdout",
     "output_type": "stream",
     "text": [
      "Stacking Averaged models score: 0.1076 (0.0076)\n"
     ]
    }
   ],
   "source": [
    "stacked_averaged_models = StackingAveragedModels(base_models = (ENet, GBoost, KRR),\n",
    "                                                 meta_model = lasso)\n",
    "\n",
    "score = rmsle_cv(stacked_averaged_models)\n",
    "print(\"Stacking Averaged models score: {:.4f} ({:.4f})\".format(score.mean(), score.std()))"
   ]
  },
  {
   "cell_type": "markdown",
   "id": "9fe6c129",
   "metadata": {
    "papermill": {
     "duration": 0.105877,
     "end_time": "2022-01-19T22:57:54.166822",
     "exception": false,
     "start_time": "2022-01-19T22:57:54.060945",
     "status": "completed"
    },
    "tags": []
   },
   "source": [
    "**Ensembling StackedRegressor, XGBoost and LightGBM** "
   ]
  },
  {
   "cell_type": "code",
   "execution_count": 65,
   "id": "d4117d36",
   "metadata": {
    "execution": {
     "iopub.execute_input": "2022-01-19T22:57:54.408341Z",
     "iopub.status.busy": "2022-01-19T22:57:54.407338Z",
     "iopub.status.idle": "2022-01-19T22:57:54.410478Z",
     "shell.execute_reply": "2022-01-19T22:57:54.409825Z",
     "shell.execute_reply.started": "2022-01-19T22:45:50.394635Z"
    },
    "papermill": {
     "duration": 0.125398,
     "end_time": "2022-01-19T22:57:54.410659",
     "exception": false,
     "start_time": "2022-01-19T22:57:54.285261",
     "status": "completed"
    },
    "tags": []
   },
   "outputs": [],
   "source": [
    "def rmsle(y, y_pred):\n",
    "    return np.sqrt(mean_squared_error(y, y_pred))"
   ]
  },
  {
   "cell_type": "markdown",
   "id": "a6d35da4",
   "metadata": {
    "papermill": {
     "duration": 0.13626,
     "end_time": "2022-01-19T22:57:54.661140",
     "exception": false,
     "start_time": "2022-01-19T22:57:54.524880",
     "status": "completed"
    },
    "tags": []
   },
   "source": [
    "**Stacked Regressor**"
   ]
  },
  {
   "cell_type": "code",
   "execution_count": 66,
   "id": "41c95462",
   "metadata": {
    "execution": {
     "iopub.execute_input": "2022-01-19T22:57:54.887651Z",
     "iopub.status.busy": "2022-01-19T22:57:54.886642Z",
     "iopub.status.idle": "2022-01-19T22:58:49.715963Z",
     "shell.execute_reply": "2022-01-19T22:58:49.716527Z",
     "shell.execute_reply.started": "2022-01-19T22:45:50.410883Z"
    },
    "papermill": {
     "duration": 54.941384,
     "end_time": "2022-01-19T22:58:49.716738",
     "exception": false,
     "start_time": "2022-01-19T22:57:54.775354",
     "status": "completed"
    },
    "tags": []
   },
   "outputs": [
    {
     "name": "stdout",
     "output_type": "stream",
     "text": [
      "0.07937377332826219\n"
     ]
    }
   ],
   "source": [
    "stacked_averaged_models.fit(train.values, y_train)\n",
    "stacked_train_pred = stacked_averaged_models.predict(train.values)\n",
    "stacked_pred = np.expm1(stacked_averaged_models.predict(test.values))\n",
    "print(rmsle(y_train, stacked_train_pred))"
   ]
  },
  {
   "cell_type": "markdown",
   "id": "401985c8",
   "metadata": {
    "papermill": {
     "duration": 0.106391,
     "end_time": "2022-01-19T22:58:49.933647",
     "exception": false,
     "start_time": "2022-01-19T22:58:49.827256",
     "status": "completed"
    },
    "tags": []
   },
   "source": [
    "**XGBoost**"
   ]
  },
  {
   "cell_type": "code",
   "execution_count": 67,
   "id": "8d55c691",
   "metadata": {
    "execution": {
     "iopub.execute_input": "2022-01-19T22:58:50.152895Z",
     "iopub.status.busy": "2022-01-19T22:58:50.150390Z",
     "iopub.status.idle": "2022-01-19T22:59:02.279816Z",
     "shell.execute_reply": "2022-01-19T22:59:02.281043Z",
     "shell.execute_reply.started": "2022-01-19T22:46:37.984180Z"
    },
    "papermill": {
     "duration": 12.240353,
     "end_time": "2022-01-19T22:59:02.281258",
     "exception": false,
     "start_time": "2022-01-19T22:58:50.040905",
     "status": "completed"
    },
    "tags": []
   },
   "outputs": [
    {
     "name": "stdout",
     "output_type": "stream",
     "text": [
      "0.07902351427207235\n"
     ]
    }
   ],
   "source": [
    "model_xgb.fit(train, y_train)\n",
    "xgb_train_pred = model_xgb.predict(train)\n",
    "xgb_pred = np.expm1(model_xgb.predict(test))\n",
    "print(rmsle(y_train, xgb_train_pred))"
   ]
  },
  {
   "cell_type": "markdown",
   "id": "68c1f709",
   "metadata": {
    "papermill": {
     "duration": 0.110654,
     "end_time": "2022-01-19T22:59:02.502981",
     "exception": false,
     "start_time": "2022-01-19T22:59:02.392327",
     "status": "completed"
    },
    "tags": []
   },
   "source": [
    "**LightGBM**"
   ]
  },
  {
   "cell_type": "code",
   "execution_count": 68,
   "id": "600e589a",
   "metadata": {
    "execution": {
     "iopub.execute_input": "2022-01-19T22:59:02.728834Z",
     "iopub.status.busy": "2022-01-19T22:59:02.728135Z",
     "iopub.status.idle": "2022-01-19T22:59:03.194134Z",
     "shell.execute_reply": "2022-01-19T22:59:03.195434Z",
     "shell.execute_reply.started": "2022-01-19T22:46:48.866251Z"
    },
    "papermill": {
     "duration": 0.582525,
     "end_time": "2022-01-19T22:59:03.195732",
     "exception": false,
     "start_time": "2022-01-19T22:59:02.613207",
     "status": "completed"
    },
    "tags": []
   },
   "outputs": [
    {
     "name": "stdout",
     "output_type": "stream",
     "text": [
      "[LightGBM] [Warning] Unknown parameter: verbose_eval\n",
      "[LightGBM] [Warning] feature_fraction is set=0.2319, colsample_bytree=1.0 will be ignored. Current value: feature_fraction=0.2319\n",
      "[LightGBM] [Warning] min_sum_hessian_in_leaf is set=11, min_child_weight=0.001 will be ignored. Current value: min_sum_hessian_in_leaf=11\n",
      "[LightGBM] [Warning] min_data_in_leaf is set=6, min_child_samples=20 will be ignored. Current value: min_data_in_leaf=6\n",
      "[LightGBM] [Warning] bagging_freq is set=5, subsample_freq=0 will be ignored. Current value: bagging_freq=5\n",
      "[LightGBM] [Warning] bagging_fraction is set=0.8, subsample=1.0 will be ignored. Current value: bagging_fraction=0.8\n",
      "0.07226156664606807\n"
     ]
    }
   ],
   "source": [
    "model_lgb.fit(train, y_train)\n",
    "lgb_train_pred = model_lgb.predict(train)\n",
    "lgb_pred = np.expm1(model_lgb.predict(test.values))\n",
    "print(rmsle(y_train, lgb_train_pred))"
   ]
  },
  {
   "cell_type": "markdown",
   "id": "2721ca47",
   "metadata": {
    "papermill": {
     "duration": 0.114564,
     "end_time": "2022-01-19T22:59:03.423644",
     "exception": false,
     "start_time": "2022-01-19T22:59:03.309080",
     "status": "completed"
    },
    "tags": []
   },
   "source": [
    "**RMSLE score**"
   ]
  },
  {
   "cell_type": "code",
   "execution_count": 69,
   "id": "8fce2666",
   "metadata": {
    "execution": {
     "iopub.execute_input": "2022-01-19T22:59:03.650620Z",
     "iopub.status.busy": "2022-01-19T22:59:03.649805Z",
     "iopub.status.idle": "2022-01-19T22:59:03.654423Z",
     "shell.execute_reply": "2022-01-19T22:59:03.655299Z",
     "shell.execute_reply.started": "2022-01-19T22:46:49.271721Z"
    },
    "papermill": {
     "duration": 0.123371,
     "end_time": "2022-01-19T22:59:03.655535",
     "exception": false,
     "start_time": "2022-01-19T22:59:03.532164",
     "status": "completed"
    },
    "tags": []
   },
   "outputs": [
    {
     "name": "stdout",
     "output_type": "stream",
     "text": [
      "0.07625802880698913\n"
     ]
    }
   ],
   "source": [
    "print(rmsle(y_train,stacked_train_pred*0.70 +\n",
    "               xgb_train_pred*0.15 + lgb_train_pred*0.15 ))"
   ]
  },
  {
   "cell_type": "markdown",
   "id": "3515704b",
   "metadata": {
    "papermill": {
     "duration": 0.10915,
     "end_time": "2022-01-19T22:59:03.873254",
     "exception": false,
     "start_time": "2022-01-19T22:59:03.764104",
     "status": "completed"
    },
    "tags": []
   },
   "source": [
    "**Ensemble Prediction**"
   ]
  },
  {
   "cell_type": "code",
   "execution_count": 70,
   "id": "59fca9ac",
   "metadata": {
    "execution": {
     "iopub.execute_input": "2022-01-19T22:59:04.101464Z",
     "iopub.status.busy": "2022-01-19T22:59:04.100461Z",
     "iopub.status.idle": "2022-01-19T22:59:04.104649Z",
     "shell.execute_reply": "2022-01-19T22:59:04.105285Z",
     "shell.execute_reply.started": "2022-01-19T22:46:49.280134Z"
    },
    "papermill": {
     "duration": 0.124785,
     "end_time": "2022-01-19T22:59:04.105470",
     "exception": false,
     "start_time": "2022-01-19T22:59:03.980685",
     "status": "completed"
    },
    "tags": []
   },
   "outputs": [],
   "source": [
    "ensemble = stacked_pred*0.70 + xgb_pred*0.15 + lgb_pred*0.15"
   ]
  },
  {
   "cell_type": "code",
   "execution_count": 71,
   "id": "aaf636a2",
   "metadata": {
    "execution": {
     "iopub.execute_input": "2022-01-19T22:59:04.328605Z",
     "iopub.status.busy": "2022-01-19T22:59:04.327555Z",
     "iopub.status.idle": "2022-01-19T22:59:04.342804Z",
     "shell.execute_reply": "2022-01-19T22:59:04.343364Z",
     "shell.execute_reply.started": "2022-01-19T22:46:49.292675Z"
    },
    "papermill": {
     "duration": 0.128537,
     "end_time": "2022-01-19T22:59:04.343532",
     "exception": false,
     "start_time": "2022-01-19T22:59:04.214995",
     "status": "completed"
    },
    "tags": []
   },
   "outputs": [],
   "source": [
    "sub = pd.DataFrame()\n",
    "sub['Id'] = test_ID\n",
    "sub['SalePrice'] = ensemble\n",
    "sub.to_csv('submission.csv',index=False)"
   ]
  },
  {
   "cell_type": "markdown",
   "id": "2e875a23",
   "metadata": {
    "papermill": {
     "duration": 0.108371,
     "end_time": "2022-01-19T22:59:04.560368",
     "exception": false,
     "start_time": "2022-01-19T22:59:04.451997",
     "status": "completed"
    },
    "tags": []
   },
   "source": [
    "### Credits & Inspiration\n",
    "* [Stacked Regression by Serigne](https://www.kaggle.com/serigne/stacked-regressions-top-4-on-leaderboard/notebook) - Absolutely stunning notebook that I've used as the template for my own explorations here. Taught me a lot about feature engineering and stacked modelling.\n",
    "* [Stacking Ensemble Machine Learning With Python by Jason Brownlee](https://machinelearningmastery.com/stacking-ensemble-machine-learning-with-python/) - Great tutorial on stacking models\n",
    "* [Comprehensive data exploration with Python by Pedro Marcelino](https://www.kaggle.com/pmarcelino/comprehensive-data-exploration-with-python) - In-depth EDA on this dataset\n",
    "* [A study on Regression applied to the Ames dataset by juliencs](https://www.kaggle.com/juliencs/a-study-on-regression-applied-to-the-ames-dataset) - Great notebook using linear regression on this dataset\n",
    "* [Missing Values, Ordinal data and stories\n",
    " by mitra mirshafiee](https://www.kaggle.com/mitramir5/missing-values-ordinal-data-and-stories) - Illustrative and educational notebook on handling missing values"
   ]
  }
 ],
 "metadata": {
  "kernelspec": {
   "display_name": "Python 3",
   "language": "python",
   "name": "python3"
  },
  "language_info": {
   "codemirror_mode": {
    "name": "ipython",
    "version": 3
   },
   "file_extension": ".py",
   "mimetype": "text/x-python",
   "name": "python",
   "nbconvert_exporter": "python",
   "pygments_lexer": "ipython3",
   "version": "3.7.12"
  },
  "papermill": {
   "default_parameters": {},
   "duration": 530.402505,
   "end_time": "2022-01-19T22:59:05.581823",
   "environment_variables": {},
   "exception": null,
   "input_path": "__notebook__.ipynb",
   "output_path": "__notebook__.ipynb",
   "parameters": {},
   "start_time": "2022-01-19T22:50:15.179318",
   "version": "2.3.3"
  }
 },
 "nbformat": 4,
 "nbformat_minor": 5
}
